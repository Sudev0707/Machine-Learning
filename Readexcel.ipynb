{
 "cells": [
  {
   "cell_type": "code",
   "execution_count": 4,
   "id": "7050eb51",
   "metadata": {},
   "outputs": [],
   "source": [
    "import pandas as pd\n",
    "import numpy as np"
   ]
  },
  {
   "cell_type": "code",
   "execution_count": 5,
   "id": "fbf1cf39",
   "metadata": {},
   "outputs": [],
   "source": [
    "df=pd.read_excel('C:/Users/Sudev babu/Machine Learning/FIFA.xlsx')"
   ]
  },
  {
   "cell_type": "code",
   "execution_count": 6,
   "id": "35f49f8a",
   "metadata": {},
   "outputs": [
    {
     "name": "stdout",
     "output_type": "stream",
     "text": [
      "      player_id;name;nationality;position;overall;age;hits;potential;team\n",
      "0      158023;Lionel Messi;Argentina;ST|CF|RW;94;33;2...                 \n",
      "1      20801;Cristiano Ronaldo;Portugal;ST|LW;93;35;2...                 \n",
      "2      190871;Neymar Jr;Brazil;CAM|LW;92;28;186;92;\"P...                 \n",
      "3      203376;Virgil van Dijk;Netherlands;CB;91;29;12...                 \n",
      "4      200389;Jan Oblak;Slovenia;GK;91;27;47;93;\"Atlé...                 \n",
      "...                                                  ...                 \n",
      "17976  256093;Jaime Ortíz;Ecuador;ST;56;21;0;64;\"Soci...                 \n",
      "17977  256088;Michael Carcelén;Ecuador;CM;56;23;0;64;...                 \n",
      "17978  256074;Davide Luzi;Venezuela;ST;56;18;1;68;\"Za...                 \n",
      "17979  256073;Sergio Sulbarán;Venezuela;RW;56;22;0;62...                 \n",
      "17980  256072;Luis Peña;Venezuela;CM;56;18;0;69;\"Zamo...                 \n",
      "\n",
      "[17981 rows x 1 columns]\n"
     ]
    }
   ],
   "source": [
    "print(df)"
   ]
  },
  {
   "cell_type": "code",
   "execution_count": 11,
   "id": "134806a1",
   "metadata": {},
   "outputs": [
    {
     "data": {
      "text/html": [
       "<div>\n",
       "<style scoped>\n",
       "    .dataframe tbody tr th:only-of-type {\n",
       "        vertical-align: middle;\n",
       "    }\n",
       "\n",
       "    .dataframe tbody tr th {\n",
       "        vertical-align: top;\n",
       "    }\n",
       "\n",
       "    .dataframe thead th {\n",
       "        text-align: right;\n",
       "    }\n",
       "</style>\n",
       "<table border=\"1\" class=\"dataframe\">\n",
       "  <thead>\n",
       "    <tr style=\"text-align: right;\">\n",
       "      <th></th>\n",
       "      <th>player_id;name;nationality;position;overall;age;hits;potential;team</th>\n",
       "    </tr>\n",
       "  </thead>\n",
       "  <tbody>\n",
       "    <tr>\n",
       "      <th>17559</th>\n",
       "      <td>255301;Ilias Karargyris;Greece;GK;57;18;0;77;\"...</td>\n",
       "    </tr>\n",
       "    <tr>\n",
       "      <th>16360</th>\n",
       "      <td>202731;Conor McCormack;Republic of Ireland;CDM...</td>\n",
       "    </tr>\n",
       "    <tr>\n",
       "      <th>16496</th>\n",
       "      <td>254576;Agustín Curruhinca;Argentina;LM;59;20;0...</td>\n",
       "    </tr>\n",
       "    <tr>\n",
       "      <th>3807</th>\n",
       "      <td>211891;Andreas Voglsammer;Germany;ST|LW;72;28;...</td>\n",
       "    </tr>\n",
       "    <tr>\n",
       "      <th>8909</th>\n",
       "      <td>210029;Joe Rafferty;Republic of Ireland;RB|LB;...</td>\n",
       "    </tr>\n",
       "    <tr>\n",
       "      <th>16107</th>\n",
       "      <td>240423;Gabi;Spain;RM|CAM;60;22;1;71;\"AD Alcorc...</td>\n",
       "    </tr>\n",
       "    <tr>\n",
       "      <th>13868</th>\n",
       "      <td>192466;Michael Marrone;Australia;RB|CB;63;33;0...</td>\n",
       "    </tr>\n",
       "    <tr>\n",
       "      <th>13336</th>\n",
       "      <td>239425;Chris Kablan;Switzerland;RB|LB;63;25;0;...</td>\n",
       "    </tr>\n",
       "    <tr>\n",
       "      <th>13578</th>\n",
       "      <td>226197;Feng Jin;China PR;RM|RW;63;26;0;64;\"Cho...</td>\n",
       "    </tr>\n",
       "    <tr>\n",
       "      <th>14630</th>\n",
       "      <td>225423;Stiven Vega;Colombia;RB;62;22;1;72;\"Mil...</td>\n",
       "    </tr>\n",
       "  </tbody>\n",
       "</table>\n",
       "</div>"
      ],
      "text/plain": [
       "      player_id;name;nationality;position;overall;age;hits;potential;team\n",
       "17559  255301;Ilias Karargyris;Greece;GK;57;18;0;77;\"...                 \n",
       "16360  202731;Conor McCormack;Republic of Ireland;CDM...                 \n",
       "16496  254576;Agustín Curruhinca;Argentina;LM;59;20;0...                 \n",
       "3807   211891;Andreas Voglsammer;Germany;ST|LW;72;28;...                 \n",
       "8909   210029;Joe Rafferty;Republic of Ireland;RB|LB;...                 \n",
       "16107  240423;Gabi;Spain;RM|CAM;60;22;1;71;\"AD Alcorc...                 \n",
       "13868  192466;Michael Marrone;Australia;RB|CB;63;33;0...                 \n",
       "13336  239425;Chris Kablan;Switzerland;RB|LB;63;25;0;...                 \n",
       "13578  226197;Feng Jin;China PR;RM|RW;63;26;0;64;\"Cho...                 \n",
       "14630  225423;Stiven Vega;Colombia;RB;62;22;1;72;\"Mil...                 "
      ]
     },
     "execution_count": 11,
     "metadata": {},
     "output_type": "execute_result"
    }
   ],
   "source": [
    "df.sample(10)"
   ]
  },
  {
   "cell_type": "code",
   "execution_count": null,
   "id": "25569c9f",
   "metadata": {},
   "outputs": [],
   "source": []
  },
  {
   "cell_type": "code",
   "execution_count": 9,
   "id": "56770b0a",
   "metadata": {},
   "outputs": [
    {
     "data": {
      "text/html": [
       "<div>\n",
       "<style scoped>\n",
       "    .dataframe tbody tr th:only-of-type {\n",
       "        vertical-align: middle;\n",
       "    }\n",
       "\n",
       "    .dataframe tbody tr th {\n",
       "        vertical-align: top;\n",
       "    }\n",
       "\n",
       "    .dataframe thead th {\n",
       "        text-align: right;\n",
       "    }\n",
       "</style>\n",
       "<table border=\"1\" class=\"dataframe\">\n",
       "  <thead>\n",
       "    <tr style=\"text-align: right;\">\n",
       "      <th></th>\n",
       "      <th>player_id;name;nationality;position;overall;age;hits;potential;team</th>\n",
       "    </tr>\n",
       "  </thead>\n",
       "  <tbody>\n",
       "    <tr>\n",
       "      <th>0</th>\n",
       "      <td>158023;Lionel Messi;Argentina;ST|CF|RW;94;33;2...</td>\n",
       "    </tr>\n",
       "    <tr>\n",
       "      <th>1</th>\n",
       "      <td>20801;Cristiano Ronaldo;Portugal;ST|LW;93;35;2...</td>\n",
       "    </tr>\n",
       "    <tr>\n",
       "      <th>2</th>\n",
       "      <td>190871;Neymar Jr;Brazil;CAM|LW;92;28;186;92;\"P...</td>\n",
       "    </tr>\n",
       "    <tr>\n",
       "      <th>3</th>\n",
       "      <td>203376;Virgil van Dijk;Netherlands;CB;91;29;12...</td>\n",
       "    </tr>\n",
       "    <tr>\n",
       "      <th>4</th>\n",
       "      <td>200389;Jan Oblak;Slovenia;GK;91;27;47;93;\"Atlé...</td>\n",
       "    </tr>\n",
       "    <tr>\n",
       "      <th>5</th>\n",
       "      <td>192985;Kevin De Bruyne;Belgium;CM|CAM;91;29;11...</td>\n",
       "    </tr>\n",
       "    <tr>\n",
       "      <th>6</th>\n",
       "      <td>188545;Robert Lewandowski;Poland;ST;91;31;89;9...</td>\n",
       "    </tr>\n",
       "    <tr>\n",
       "      <th>7</th>\n",
       "      <td>183277;Eden Hazard;Belgium;ST|LW;91;29;66;91;\"...</td>\n",
       "    </tr>\n",
       "    <tr>\n",
       "      <th>8</th>\n",
       "      <td>212831;Alisson;Brazil;GK;90;27;53;91;\"Liverpool \"</td>\n",
       "    </tr>\n",
       "    <tr>\n",
       "      <th>9</th>\n",
       "      <td>209331;Mohamed Salah;Egypt;ST|RW;90;28;94;90;\"...</td>\n",
       "    </tr>\n",
       "  </tbody>\n",
       "</table>\n",
       "</div>"
      ],
      "text/plain": [
       "  player_id;name;nationality;position;overall;age;hits;potential;team\n",
       "0  158023;Lionel Messi;Argentina;ST|CF|RW;94;33;2...                 \n",
       "1  20801;Cristiano Ronaldo;Portugal;ST|LW;93;35;2...                 \n",
       "2  190871;Neymar Jr;Brazil;CAM|LW;92;28;186;92;\"P...                 \n",
       "3  203376;Virgil van Dijk;Netherlands;CB;91;29;12...                 \n",
       "4  200389;Jan Oblak;Slovenia;GK;91;27;47;93;\"Atlé...                 \n",
       "5  192985;Kevin De Bruyne;Belgium;CM|CAM;91;29;11...                 \n",
       "6  188545;Robert Lewandowski;Poland;ST;91;31;89;9...                 \n",
       "7  183277;Eden Hazard;Belgium;ST|LW;91;29;66;91;\"...                 \n",
       "8  212831;Alisson;Brazil;GK;90;27;53;91;\"Liverpool \"                 \n",
       "9  209331;Mohamed Salah;Egypt;ST|RW;90;28;94;90;\"...                 "
      ]
     },
     "execution_count": 9,
     "metadata": {},
     "output_type": "execute_result"
    }
   ],
   "source": [
    "df.head(10)"
   ]
  },
  {
   "cell_type": "code",
   "execution_count": null,
   "id": "7e89e65f",
   "metadata": {},
   "outputs": [],
   "source": []
  },
  {
   "cell_type": "code",
   "execution_count": null,
   "id": "85eb4621",
   "metadata": {},
   "outputs": [],
   "source": []
  }
 ],
 "metadata": {
  "kernelspec": {
   "display_name": "Python 3 (ipykernel)",
   "language": "python",
   "name": "python3"
  },
  "language_info": {
   "codemirror_mode": {
    "name": "ipython",
    "version": 3
   },
   "file_extension": ".py",
   "mimetype": "text/x-python",
   "name": "python",
   "nbconvert_exporter": "python",
   "pygments_lexer": "ipython3",
   "version": "3.9.7"
  }
 },
 "nbformat": 4,
 "nbformat_minor": 5
}
