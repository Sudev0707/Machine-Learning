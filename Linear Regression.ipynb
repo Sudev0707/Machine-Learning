{
 "cells": [
  {
   "cell_type": "markdown",
   "id": "43b4a067",
   "metadata": {},
   "source": [
    "### Example1: In the following Python implementation example, we are using our own dataset."
   ]
  },
  {
   "cell_type": "code",
   "execution_count": 4,
   "id": "e711bf35",
   "metadata": {},
   "outputs": [],
   "source": [
    "%matplotlib inline "
   ]
  },
  {
   "cell_type": "code",
   "execution_count": 1,
   "id": "87d23405",
   "metadata": {},
   "outputs": [],
   "source": [
    "import numpy as np"
   ]
  },
  {
   "cell_type": "code",
   "execution_count": 2,
   "id": "9d839de1",
   "metadata": {},
   "outputs": [],
   "source": [
    "import matplotlib.pyplot as plt"
   ]
  },
  {
   "cell_type": "code",
   "execution_count": 11,
   "id": "694f0c35",
   "metadata": {},
   "outputs": [],
   "source": [
    "def coef_estimation(x, y): \n",
    "    n = np.size(x)\n",
    "    m_x, m_y = np.mean(x), np.mean(y) \n",
    "    SS_xy = np.sum(y*x) - n*m_y*m_x \n",
    "    SS_xx = np.sum(x*x) - n*m_x*m_x \n",
    "    b_1 = SS_xy / SS_xx \n",
    "    b_0 = m_y - b_1*m_x \n",
    "    return(b_0, b_1) "
   ]
  },
  {
   "cell_type": "code",
   "execution_count": 12,
   "id": "1cf8f74e",
   "metadata": {},
   "outputs": [],
   "source": [
    "def plot_regression_line(x, y, b):\n",
    "    plt.scatter(x, y, color = \"m\", marker = \"o\", s = 30) \n",
    "    y_pred = b[0] + b[1]*x \n",
    "    plt.plot(x, y_pred, color = \"g\") \n",
    "    plt.xlabel('x') \n",
    "    plt.ylabel('y') \n",
    "    plt.show()"
   ]
  },
  {
   "cell_type": "code",
   "execution_count": 13,
   "id": "0a483f91",
   "metadata": {},
   "outputs": [],
   "source": [
    "def main(): \n",
    "    x = np.array([0, 1, 2, 3, 4, 5, 6, 7, 8, 9]) \n",
    "    y = np.array([100, 300, 350, 500, 750, 800, 850, 900, 1050, 1250]) \n",
    " \n",
    "    b = coef_estimation(x, y) \n",
    "    print(\"Estimated coefficients:\\nb_0 = {} \\nb_1 = {}\".format(b[0], b[1])) \n",
    " \n",
    "    plot_regression_line(x, y, b) "
   ]
  },
  {
   "cell_type": "code",
   "execution_count": 15,
   "id": "b754be7a",
   "metadata": {},
   "outputs": [
    {
     "name": "stdout",
     "output_type": "stream",
     "text": [
      "Estimated coefficients:\n",
      "b_0 = 154.5454545454545 \n",
      "b_1 = 117.87878787878788\n"
     ]
    },
    {
     "data": {
      "image/png": "[encoded data removed]",
      "text/plain": [
       "<Figure size 432x288 with 1 Axes>"
      ]
     },
     "metadata": {
      "needs_background": "light"
     },
     "output_type": "display_data"
    }
   ],
   "source": [
    "if __name__ == \"__main__\": \n",
    "    main()\n"
   ]
  },
  {
   "cell_type": "markdown",
   "id": "8e4b97e3",
   "metadata": {},
   "source": [
    "#  -------------------------------------------------------------------"
   ]
  },
  {
   "cell_type": "markdown",
   "id": "9fd09a0d",
   "metadata": {},
   "source": [
    "###  Example2: In the following Python implementation example, we are using diabetes dataset from scikit-learn"
   ]
  },
  {
   "cell_type": "code",
   "execution_count": 16,
   "id": "3f5f4e20",
   "metadata": {},
   "outputs": [],
   "source": [
    "%matplotlib inline\n",
    "import matplotlib.pyplot as plt\n",
    "import numpy as np\n",
    "from sklearn import datasets, linear_model\n",
    "from sklearn.metrics import mean_squared_error, r2_score"
   ]
  },
  {
   "cell_type": "code",
   "execution_count": 17,
   "id": "f901eb23",
   "metadata": {},
   "outputs": [],
   "source": [
    "diabetes = datasets.load_diabetes()"
   ]
  },
  {
   "cell_type": "code",
   "execution_count": 18,
   "id": "2527efc7",
   "metadata": {},
   "outputs": [],
   "source": [
    "X = diabetes.data[:, np.newaxis, 2]"
   ]
  },
  {
   "cell_type": "code",
   "execution_count": 20,
   "id": "a13fd0f1",
   "metadata": {},
   "outputs": [],
   "source": [
    "X_train = X[:-30]\n",
    "X_test = X[-30:]\n",
    "\n",
    "y_train = diabetes.target[:-30]\n",
    "y_test = diabetes.target[-30:]"
   ]
  },
  {
   "cell_type": "code",
   "execution_count": 23,
   "id": "2af5fa10",
   "metadata": {},
   "outputs": [],
   "source": [
    "regr = linear_model.LinearRegression()"
   ]
  },
  {
   "cell_type": "code",
   "execution_count": 24,
   "id": "e46665c3",
   "metadata": {},
   "outputs": [
    {
     "data": {
      "text/plain": [
       "LinearRegression()"
      ]
     },
     "execution_count": 24,
     "metadata": {},
     "output_type": "execute_result"
    }
   ],
   "source": [
    "regr.fit(X_train, y_train)"
   ]
  },
  {
   "cell_type": "code",
   "execution_count": 25,
   "id": "b6a6ffaf",
   "metadata": {},
   "outputs": [],
   "source": [
    "y_pred = regr.predict(X_test)"
   ]
  },
  {
   "cell_type": "code",
   "execution_count": 26,
   "id": "5105041a",
   "metadata": {},
   "outputs": [
    {
     "name": "stdout",
     "output_type": "stream",
     "text": [
      "Coefficients: \n",
      " [941.43097333]\n",
      "Mean squared error: 3035.06\n",
      "Variance score: 0.41\n"
     ]
    }
   ],
   "source": [
    "print('Coefficients: \\n', regr.coef_)\n",
    "print(\"Mean squared error: %.2f\"\n",
    " % mean_squared_error(y_test, y_pred))\n",
    "print('Variance score: %.2f' % r2_score(y_test, y_pred))"
   ]
  },
  {
   "cell_type": "code",
   "execution_count": 27,
   "id": "90bc9304",
   "metadata": {},
   "outputs": [
    {
     "data": {
      "image/png": "[encoded data removed]",
      "text/plain": [
       "<Figure size 432x288 with 1 Axes>"
      ]
     },
     "metadata": {},
     "output_type": "display_data"
    }
   ],
   "source": [
    "plt.scatter(X_test, y_test, color='blue')\n",
    "plt.plot(X_test, y_pred, color='red', linewidth=3)\n",
    "plt.xticks(())\n",
    "plt.yticks(())\n",
    "plt.show()"
   ]
  },
  {
   "cell_type": "code",
   "execution_count": null,
   "id": "edf42099",
   "metadata": {},
   "outputs": [],
   "source": []
  }
 ],
 "metadata": {
  "kernelspec": {
   "display_name": "Python 3 (ipykernel)",
   "language": "python",
   "name": "python3"
  },
  "language_info": {
   "codemirror_mode": {
    "name": "ipython",
    "version": 3
   },
   "file_extension": ".py",
   "mimetype": "text/x-python",
   "name": "python",
   "nbconvert_exporter": "python",
   "pygments_lexer": "ipython3",
   "version": "3.9.7"
  }
 },
 "nbformat": 4,
 "nbformat_minor": 5
}
