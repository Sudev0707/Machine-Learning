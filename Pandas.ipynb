{
 "cells": [
  {
   "cell_type": "code",
   "execution_count": 7,
   "id": "1cbb2ac5",
   "metadata": {},
   "outputs": [],
   "source": [
    "import pandas as pd\n",
    "import numpy as np"
   ]
  },
  {
   "cell_type": "markdown",
   "id": "c8eeadc3",
   "metadata": {},
   "source": [
    "### Data structures"
   ]
  },
  {
   "cell_type": "markdown",
   "id": "b0123956",
   "metadata": {},
   "source": [
    "##### .Series : This is a one-dimensional object similar to column in a spreadsheet or SQL table. By default each item will be assigned anindex label from 0 to N.\n",
    "\n"
   ]
  },
  {
   "cell_type": "code",
   "execution_count": 14,
   "id": "79e23ff4",
   "metadata": {},
   "outputs": [],
   "source": [
    "s=pd.Series([10,20,30,np.nan,70,80], index=['A','B','C','D','E','F'])"
   ]
  },
  {
   "cell_type": "code",
   "execution_count": 15,
   "id": "c257d63f",
   "metadata": {},
   "outputs": [
    {
     "name": "stdout",
     "output_type": "stream",
     "text": [
      "A    10.0\n",
      "B    20.0\n",
      "C    30.0\n",
      "D     NaN\n",
      "E    70.0\n",
      "F    80.0\n",
      "dtype: float64\n"
     ]
    }
   ],
   "source": [
    "print(s)"
   ]
  },
  {
   "cell_type": "code",
   "execution_count": 19,
   "id": "fb4d792f",
   "metadata": {},
   "outputs": [],
   "source": [
    "table={'Gender': ['F', 'M', 'M'],'Emp_ID': ['E01', 'E02','E03'], 'Age': [25, 27, 25]}"
   ]
  },
  {
   "cell_type": "code",
   "execution_count": 17,
   "id": "6c209ea2",
   "metadata": {},
   "outputs": [],
   "source": [
    "df= pd.DataFrame(table,  columns=['Emp_ID','Gender', 'Age'])"
   ]
  },
  {
   "cell_type": "code",
   "execution_count": 18,
   "id": "8560b97b",
   "metadata": {},
   "outputs": [
    {
     "data": {
      "text/html": [
       "<div>\n",
       "<style scoped>\n",
       "    .dataframe tbody tr th:only-of-type {\n",
       "        vertical-align: middle;\n",
       "    }\n",
       "\n",
       "    .dataframe tbody tr th {\n",
       "        vertical-align: top;\n",
       "    }\n",
       "\n",
       "    .dataframe thead th {\n",
       "        text-align: right;\n",
       "    }\n",
       "</style>\n",
       "<table border=\"1\" class=\"dataframe\">\n",
       "  <thead>\n",
       "    <tr style=\"text-align: right;\">\n",
       "      <th></th>\n",
       "      <th>Emp_ID</th>\n",
       "      <th>Gender</th>\n",
       "      <th>Age</th>\n",
       "    </tr>\n",
       "  </thead>\n",
       "  <tbody>\n",
       "    <tr>\n",
       "      <th>0</th>\n",
       "      <td>E01</td>\n",
       "      <td>F</td>\n",
       "      <td>25</td>\n",
       "    </tr>\n",
       "    <tr>\n",
       "      <th>1</th>\n",
       "      <td>E02</td>\n",
       "      <td>M</td>\n",
       "      <td>27</td>\n",
       "    </tr>\n",
       "    <tr>\n",
       "      <th>2</th>\n",
       "      <td>E03</td>\n",
       "      <td>M</td>\n",
       "      <td>25</td>\n",
       "    </tr>\n",
       "  </tbody>\n",
       "</table>\n",
       "</div>"
      ],
      "text/plain": [
       "  Emp_ID Gender  Age\n",
       "0    E01      F   25\n",
       "1    E02      M   27\n",
       "2    E03      M   25"
      ]
     },
     "execution_count": 18,
     "metadata": {},
     "output_type": "execute_result"
    }
   ],
   "source": [
    "df"
   ]
  },
  {
   "cell_type": "code",
   "execution_count": 29,
   "id": "e846d289",
   "metadata": {},
   "outputs": [],
   "source": [
    "sm= {'ID': ['S01', 'S02','S03'],\n",
    "     'Name': ['Sudev', 'Suman', 'Pooja'], \n",
    "     'Age': [24, 20, 17], \n",
    "     'Address': ['kolkata', 'Ranchi','Ghatsila'], \n",
    "     'Gender': ['F', 'M', 'M']}"
   ]
  },
  {
   "cell_type": "code",
   "execution_count": 30,
   "id": "0235bd48",
   "metadata": {},
   "outputs": [],
   "source": [
    "daf= pd.DataFrame(sm,  columns=['ID', 'Name', 'Gender', 'Age', 'Address'])"
   ]
  },
  {
   "cell_type": "code",
   "execution_count": 31,
   "id": "cb30cf73",
   "metadata": {},
   "outputs": [
    {
     "data": {
      "text/html": [
       "<div>\n",
       "<style scoped>\n",
       "    .dataframe tbody tr th:only-of-type {\n",
       "        vertical-align: middle;\n",
       "    }\n",
       "\n",
       "    .dataframe tbody tr th {\n",
       "        vertical-align: top;\n",
       "    }\n",
       "\n",
       "    .dataframe thead th {\n",
       "        text-align: right;\n",
       "    }\n",
       "</style>\n",
       "<table border=\"1\" class=\"dataframe\">\n",
       "  <thead>\n",
       "    <tr style=\"text-align: right;\">\n",
       "      <th></th>\n",
       "      <th>ID</th>\n",
       "      <th>Name</th>\n",
       "      <th>Gender</th>\n",
       "      <th>Age</th>\n",
       "      <th>Address</th>\n",
       "    </tr>\n",
       "  </thead>\n",
       "  <tbody>\n",
       "    <tr>\n",
       "      <th>0</th>\n",
       "      <td>S01</td>\n",
       "      <td>Sudev</td>\n",
       "      <td>F</td>\n",
       "      <td>24</td>\n",
       "      <td>kolkata</td>\n",
       "    </tr>\n",
       "    <tr>\n",
       "      <th>1</th>\n",
       "      <td>S02</td>\n",
       "      <td>Suman</td>\n",
       "      <td>M</td>\n",
       "      <td>20</td>\n",
       "      <td>Ranchi</td>\n",
       "    </tr>\n",
       "    <tr>\n",
       "      <th>2</th>\n",
       "      <td>S03</td>\n",
       "      <td>Pooja</td>\n",
       "      <td>M</td>\n",
       "      <td>17</td>\n",
       "      <td>Ghatsila</td>\n",
       "    </tr>\n",
       "  </tbody>\n",
       "</table>\n",
       "</div>"
      ],
      "text/plain": [
       "    ID   Name Gender  Age   Address\n",
       "0  S01  Sudev      F   24   kolkata\n",
       "1  S02  Suman      M   20    Ranchi\n",
       "2  S03  Pooja      M   17  Ghatsila"
      ]
     },
     "execution_count": 31,
     "metadata": {},
     "output_type": "execute_result"
    }
   ],
   "source": [
    "daf"
   ]
  },
  {
   "cell_type": "code",
   "execution_count": null,
   "id": "fe968fbb",
   "metadata": {},
   "outputs": [],
   "source": []
  },
  {
   "cell_type": "markdown",
   "id": "25f2303f",
   "metadata": {},
   "source": [
    "## Reading and Writing Data:"
   ]
  },
  {
   "cell_type": "markdown",
   "id": "2364a3b6",
   "metadata": {},
   "source": [
    "####  Reading / writing data from csv, text, Excel"
   ]
  },
  {
   "cell_type": "markdown",
   "id": "9fc08fbb",
   "metadata": {},
   "source": [
    "######  Reading frome csv"
   ]
  },
  {
   "cell_type": "code",
   "execution_count": 110,
   "id": "29fd387a",
   "metadata": {},
   "outputs": [],
   "source": [
    "net=pd.read_csv('C:/Users/Sudev babu/Machine Learning/CSV/netflix price in different countries.csv')"
   ]
  },
  {
   "cell_type": "code",
   "execution_count": 88,
   "id": "baa9ac5d",
   "metadata": {},
   "outputs": [
    {
     "name": "stdout",
     "output_type": "stream",
     "text": [
      "READ CSV:\n",
      "           Country  Total Library Size  No. of TV Shows  No. of Movies  \\\n",
      "0       Argentina                4760             3154           1606   \n",
      "1         Austria                5640             3779           1861   \n",
      "2         Bolivia                4991             3155           1836   \n",
      "3        Bulgaria                6797             4819           1978   \n",
      "4           Chile                4994             3156           1838   \n",
      "..            ...                 ...              ...            ...   \n",
      "60        Ireland                6486             4515           1971   \n",
      "61    Switzerland                5506             3654           1852   \n",
      "62      Australia                6114             4050           2064   \n",
      "63        Denmark                4558             2978           1580   \n",
      "64  United States                5818             3826           1992   \n",
      "\n",
      "    Cost Per Month - Basic ($)  Cost Per Month - Standard ($)  \\\n",
      "0                         3.74                           6.30   \n",
      "1                         9.03                          14.67   \n",
      "2                         7.99                          10.99   \n",
      "3                         9.03                          11.29   \n",
      "4                         7.07                           9.91   \n",
      "..                         ...                            ...   \n",
      "60                        9.03                          14.67   \n",
      "61                       12.88                          20.46   \n",
      "62                        7.84                          12.12   \n",
      "63                       12.00                          15.04   \n",
      "64                        8.99                          13.99   \n",
      "\n",
      "    Cost Per Month - Premium ($)  \n",
      "0                           9.26  \n",
      "1                          20.32  \n",
      "2                          13.99  \n",
      "3                          13.54  \n",
      "4                          12.74  \n",
      "..                           ...  \n",
      "60                         20.32  \n",
      "61                         26.96  \n",
      "62                         16.39  \n",
      "63                         19.60  \n",
      "64                         17.99  \n",
      "\n",
      "[65 rows x 7 columns]\n"
     ]
    }
   ],
   "source": [
    "print(\"READ CSV:\\n\",net)\n"
   ]
  },
  {
   "cell_type": "code",
   "execution_count": 89,
   "id": "5f3c8421",
   "metadata": {},
   "outputs": [
    {
     "data": {
      "text/html": [
       "<div>\n",
       "<style scoped>\n",
       "    .dataframe tbody tr th:only-of-type {\n",
       "        vertical-align: middle;\n",
       "    }\n",
       "\n",
       "    .dataframe tbody tr th {\n",
       "        vertical-align: top;\n",
       "    }\n",
       "\n",
       "    .dataframe thead th {\n",
       "        text-align: right;\n",
       "    }\n",
       "</style>\n",
       "<table border=\"1\" class=\"dataframe\">\n",
       "  <thead>\n",
       "    <tr style=\"text-align: right;\">\n",
       "      <th></th>\n",
       "      <th>Country</th>\n",
       "      <th>Total Library Size</th>\n",
       "      <th>No. of TV Shows</th>\n",
       "      <th>No. of Movies</th>\n",
       "      <th>Cost Per Month - Basic ($)</th>\n",
       "      <th>Cost Per Month - Standard ($)</th>\n",
       "      <th>Cost Per Month - Premium ($)</th>\n",
       "    </tr>\n",
       "  </thead>\n",
       "  <tbody>\n",
       "    <tr>\n",
       "      <th>0</th>\n",
       "      <td>Argentina</td>\n",
       "      <td>4760</td>\n",
       "      <td>3154</td>\n",
       "      <td>1606</td>\n",
       "      <td>3.74</td>\n",
       "      <td>6.30</td>\n",
       "      <td>9.26</td>\n",
       "    </tr>\n",
       "    <tr>\n",
       "      <th>1</th>\n",
       "      <td>Austria</td>\n",
       "      <td>5640</td>\n",
       "      <td>3779</td>\n",
       "      <td>1861</td>\n",
       "      <td>9.03</td>\n",
       "      <td>14.67</td>\n",
       "      <td>20.32</td>\n",
       "    </tr>\n",
       "    <tr>\n",
       "      <th>2</th>\n",
       "      <td>Bolivia</td>\n",
       "      <td>4991</td>\n",
       "      <td>3155</td>\n",
       "      <td>1836</td>\n",
       "      <td>7.99</td>\n",
       "      <td>10.99</td>\n",
       "      <td>13.99</td>\n",
       "    </tr>\n",
       "    <tr>\n",
       "      <th>3</th>\n",
       "      <td>Bulgaria</td>\n",
       "      <td>6797</td>\n",
       "      <td>4819</td>\n",
       "      <td>1978</td>\n",
       "      <td>9.03</td>\n",
       "      <td>11.29</td>\n",
       "      <td>13.54</td>\n",
       "    </tr>\n",
       "    <tr>\n",
       "      <th>4</th>\n",
       "      <td>Chile</td>\n",
       "      <td>4994</td>\n",
       "      <td>3156</td>\n",
       "      <td>1838</td>\n",
       "      <td>7.07</td>\n",
       "      <td>9.91</td>\n",
       "      <td>12.74</td>\n",
       "    </tr>\n",
       "  </tbody>\n",
       "</table>\n",
       "</div>"
      ],
      "text/plain": [
       "     Country  Total Library Size  No. of TV Shows  No. of Movies  \\\n",
       "0  Argentina                4760             3154           1606   \n",
       "1    Austria                5640             3779           1861   \n",
       "2    Bolivia                4991             3155           1836   \n",
       "3   Bulgaria                6797             4819           1978   \n",
       "4      Chile                4994             3156           1838   \n",
       "\n",
       "   Cost Per Month - Basic ($)  Cost Per Month - Standard ($)  \\\n",
       "0                        3.74                           6.30   \n",
       "1                        9.03                          14.67   \n",
       "2                        7.99                          10.99   \n",
       "3                        9.03                          11.29   \n",
       "4                        7.07                           9.91   \n",
       "\n",
       "   Cost Per Month - Premium ($)  \n",
       "0                          9.26  \n",
       "1                         20.32  \n",
       "2                         13.99  \n",
       "3                         13.54  \n",
       "4                         12.74  "
      ]
     },
     "execution_count": 89,
     "metadata": {},
     "output_type": "execute_result"
    }
   ],
   "source": [
    "net.head()"
   ]
  },
  {
   "cell_type": "code",
   "execution_count": 92,
   "id": "0a6b4022",
   "metadata": {},
   "outputs": [
    {
     "data": {
      "text/html": [
       "<div>\n",
       "<style scoped>\n",
       "    .dataframe tbody tr th:only-of-type {\n",
       "        vertical-align: middle;\n",
       "    }\n",
       "\n",
       "    .dataframe tbody tr th {\n",
       "        vertical-align: top;\n",
       "    }\n",
       "\n",
       "    .dataframe thead th {\n",
       "        text-align: right;\n",
       "    }\n",
       "</style>\n",
       "<table border=\"1\" class=\"dataframe\">\n",
       "  <thead>\n",
       "    <tr style=\"text-align: right;\">\n",
       "      <th></th>\n",
       "      <th>Total Library Size</th>\n",
       "      <th>No. of TV Shows</th>\n",
       "      <th>No. of Movies</th>\n",
       "      <th>Cost Per Month - Basic ($)</th>\n",
       "      <th>Cost Per Month - Standard ($)</th>\n",
       "      <th>Cost Per Month - Premium ($)</th>\n",
       "    </tr>\n",
       "  </thead>\n",
       "  <tbody>\n",
       "    <tr>\n",
       "      <th>count</th>\n",
       "      <td>65.000000</td>\n",
       "      <td>65.000000</td>\n",
       "      <td>65.000000</td>\n",
       "      <td>65.000000</td>\n",
       "      <td>65.000000</td>\n",
       "      <td>65.000000</td>\n",
       "    </tr>\n",
       "    <tr>\n",
       "      <th>mean</th>\n",
       "      <td>5314.415385</td>\n",
       "      <td>3518.953846</td>\n",
       "      <td>1795.461538</td>\n",
       "      <td>8.368462</td>\n",
       "      <td>11.990000</td>\n",
       "      <td>15.612923</td>\n",
       "    </tr>\n",
       "    <tr>\n",
       "      <th>std</th>\n",
       "      <td>980.322633</td>\n",
       "      <td>723.010556</td>\n",
       "      <td>327.279748</td>\n",
       "      <td>1.937819</td>\n",
       "      <td>2.863979</td>\n",
       "      <td>4.040672</td>\n",
       "    </tr>\n",
       "    <tr>\n",
       "      <th>min</th>\n",
       "      <td>2274.000000</td>\n",
       "      <td>1675.000000</td>\n",
       "      <td>373.000000</td>\n",
       "      <td>1.970000</td>\n",
       "      <td>3.000000</td>\n",
       "      <td>4.020000</td>\n",
       "    </tr>\n",
       "    <tr>\n",
       "      <th>25%</th>\n",
       "      <td>4948.000000</td>\n",
       "      <td>3154.000000</td>\n",
       "      <td>1628.000000</td>\n",
       "      <td>7.990000</td>\n",
       "      <td>10.710000</td>\n",
       "      <td>13.540000</td>\n",
       "    </tr>\n",
       "    <tr>\n",
       "      <th>50%</th>\n",
       "      <td>5195.000000</td>\n",
       "      <td>3512.000000</td>\n",
       "      <td>1841.000000</td>\n",
       "      <td>8.990000</td>\n",
       "      <td>11.490000</td>\n",
       "      <td>14.450000</td>\n",
       "    </tr>\n",
       "    <tr>\n",
       "      <th>75%</th>\n",
       "      <td>5952.000000</td>\n",
       "      <td>3832.000000</td>\n",
       "      <td>1980.000000</td>\n",
       "      <td>9.030000</td>\n",
       "      <td>13.540000</td>\n",
       "      <td>18.060000</td>\n",
       "    </tr>\n",
       "    <tr>\n",
       "      <th>max</th>\n",
       "      <td>7325.000000</td>\n",
       "      <td>5234.000000</td>\n",
       "      <td>2387.000000</td>\n",
       "      <td>12.880000</td>\n",
       "      <td>20.460000</td>\n",
       "      <td>26.960000</td>\n",
       "    </tr>\n",
       "  </tbody>\n",
       "</table>\n",
       "</div>"
      ],
      "text/plain": [
       "       Total Library Size  No. of TV Shows  No. of Movies  \\\n",
       "count           65.000000        65.000000      65.000000   \n",
       "mean          5314.415385      3518.953846    1795.461538   \n",
       "std            980.322633       723.010556     327.279748   \n",
       "min           2274.000000      1675.000000     373.000000   \n",
       "25%           4948.000000      3154.000000    1628.000000   \n",
       "50%           5195.000000      3512.000000    1841.000000   \n",
       "75%           5952.000000      3832.000000    1980.000000   \n",
       "max           7325.000000      5234.000000    2387.000000   \n",
       "\n",
       "       Cost Per Month - Basic ($)  Cost Per Month - Standard ($)  \\\n",
       "count                   65.000000                      65.000000   \n",
       "mean                     8.368462                      11.990000   \n",
       "std                      1.937819                       2.863979   \n",
       "min                      1.970000                       3.000000   \n",
       "25%                      7.990000                      10.710000   \n",
       "50%                      8.990000                      11.490000   \n",
       "75%                      9.030000                      13.540000   \n",
       "max                     12.880000                      20.460000   \n",
       "\n",
       "       Cost Per Month - Premium ($)  \n",
       "count                     65.000000  \n",
       "mean                      15.612923  \n",
       "std                        4.040672  \n",
       "min                        4.020000  \n",
       "25%                       13.540000  \n",
       "50%                       14.450000  \n",
       "75%                       18.060000  \n",
       "max                       26.960000  "
      ]
     },
     "execution_count": 92,
     "metadata": {},
     "output_type": "execute_result"
    }
   ],
   "source": [
    "net.describe()"
   ]
  },
  {
   "cell_type": "code",
   "execution_count": 96,
   "id": "560ab1b9",
   "metadata": {},
   "outputs": [
    {
     "data": {
      "text/html": [
       "<div>\n",
       "<style scoped>\n",
       "    .dataframe tbody tr th:only-of-type {\n",
       "        vertical-align: middle;\n",
       "    }\n",
       "\n",
       "    .dataframe tbody tr th {\n",
       "        vertical-align: top;\n",
       "    }\n",
       "\n",
       "    .dataframe thead th {\n",
       "        text-align: right;\n",
       "    }\n",
       "</style>\n",
       "<table border=\"1\" class=\"dataframe\">\n",
       "  <thead>\n",
       "    <tr style=\"text-align: right;\">\n",
       "      <th></th>\n",
       "      <th>Country</th>\n",
       "      <th>Total Library Size</th>\n",
       "      <th>No. of TV Shows</th>\n",
       "      <th>No. of Movies</th>\n",
       "      <th>Cost Per Month - Basic ($)</th>\n",
       "      <th>Cost Per Month - Standard ($)</th>\n",
       "      <th>Cost Per Month - Premium ($)</th>\n",
       "    </tr>\n",
       "  </thead>\n",
       "  <tbody>\n",
       "    <tr>\n",
       "      <th>22</th>\n",
       "      <td>Japan</td>\n",
       "      <td>5475</td>\n",
       "      <td>3619</td>\n",
       "      <td>1856</td>\n",
       "      <td>8.73</td>\n",
       "      <td>13.13</td>\n",
       "      <td>17.45</td>\n",
       "    </tr>\n",
       "    <tr>\n",
       "      <th>1</th>\n",
       "      <td>Austria</td>\n",
       "      <td>5640</td>\n",
       "      <td>3779</td>\n",
       "      <td>1861</td>\n",
       "      <td>9.03</td>\n",
       "      <td>14.67</td>\n",
       "      <td>20.32</td>\n",
       "    </tr>\n",
       "    <tr>\n",
       "      <th>15</th>\n",
       "      <td>Guatemala</td>\n",
       "      <td>4767</td>\n",
       "      <td>3154</td>\n",
       "      <td>1613</td>\n",
       "      <td>7.99</td>\n",
       "      <td>10.99</td>\n",
       "      <td>13.99</td>\n",
       "    </tr>\n",
       "    <tr>\n",
       "      <th>60</th>\n",
       "      <td>Ireland</td>\n",
       "      <td>6486</td>\n",
       "      <td>4515</td>\n",
       "      <td>1971</td>\n",
       "      <td>9.03</td>\n",
       "      <td>14.67</td>\n",
       "      <td>20.32</td>\n",
       "    </tr>\n",
       "    <tr>\n",
       "      <th>6</th>\n",
       "      <td>Costa Rica</td>\n",
       "      <td>4988</td>\n",
       "      <td>3152</td>\n",
       "      <td>1836</td>\n",
       "      <td>8.99</td>\n",
       "      <td>12.99</td>\n",
       "      <td>15.99</td>\n",
       "    </tr>\n",
       "    <tr>\n",
       "      <th>43</th>\n",
       "      <td>Uruguay</td>\n",
       "      <td>4989</td>\n",
       "      <td>3154</td>\n",
       "      <td>1835</td>\n",
       "      <td>8.99</td>\n",
       "      <td>12.99</td>\n",
       "      <td>15.99</td>\n",
       "    </tr>\n",
       "    <tr>\n",
       "      <th>36</th>\n",
       "      <td>Slovakia</td>\n",
       "      <td>7035</td>\n",
       "      <td>5055</td>\n",
       "      <td>1980</td>\n",
       "      <td>9.03</td>\n",
       "      <td>11.29</td>\n",
       "      <td>13.54</td>\n",
       "    </tr>\n",
       "    <tr>\n",
       "      <th>2</th>\n",
       "      <td>Bolivia</td>\n",
       "      <td>4991</td>\n",
       "      <td>3155</td>\n",
       "      <td>1836</td>\n",
       "      <td>7.99</td>\n",
       "      <td>10.99</td>\n",
       "      <td>13.99</td>\n",
       "    </tr>\n",
       "    <tr>\n",
       "      <th>9</th>\n",
       "      <td>Ecuador</td>\n",
       "      <td>4992</td>\n",
       "      <td>3155</td>\n",
       "      <td>1837</td>\n",
       "      <td>7.99</td>\n",
       "      <td>10.99</td>\n",
       "      <td>13.99</td>\n",
       "    </tr>\n",
       "    <tr>\n",
       "      <th>57</th>\n",
       "      <td>United Kingdom</td>\n",
       "      <td>6643</td>\n",
       "      <td>4551</td>\n",
       "      <td>2092</td>\n",
       "      <td>7.91</td>\n",
       "      <td>13.20</td>\n",
       "      <td>18.48</td>\n",
       "    </tr>\n",
       "    <tr>\n",
       "      <th>33</th>\n",
       "      <td>Romania</td>\n",
       "      <td>5303</td>\n",
       "      <td>3832</td>\n",
       "      <td>1471</td>\n",
       "      <td>9.03</td>\n",
       "      <td>11.29</td>\n",
       "      <td>13.54</td>\n",
       "    </tr>\n",
       "    <tr>\n",
       "      <th>58</th>\n",
       "      <td>Indonesia</td>\n",
       "      <td>3887</td>\n",
       "      <td>2449</td>\n",
       "      <td>1438</td>\n",
       "      <td>8.36</td>\n",
       "      <td>10.66</td>\n",
       "      <td>12.96</td>\n",
       "    </tr>\n",
       "    <tr>\n",
       "      <th>50</th>\n",
       "      <td>Hungary</td>\n",
       "      <td>6884</td>\n",
       "      <td>4802</td>\n",
       "      <td>2082</td>\n",
       "      <td>7.64</td>\n",
       "      <td>10.71</td>\n",
       "      <td>13.78</td>\n",
       "    </tr>\n",
       "    <tr>\n",
       "      <th>0</th>\n",
       "      <td>Argentina</td>\n",
       "      <td>4760</td>\n",
       "      <td>3154</td>\n",
       "      <td>1606</td>\n",
       "      <td>3.74</td>\n",
       "      <td>6.30</td>\n",
       "      <td>9.26</td>\n",
       "    </tr>\n",
       "    <tr>\n",
       "      <th>14</th>\n",
       "      <td>Greece</td>\n",
       "      <td>4772</td>\n",
       "      <td>3344</td>\n",
       "      <td>1428</td>\n",
       "      <td>9.03</td>\n",
       "      <td>12.42</td>\n",
       "      <td>15.80</td>\n",
       "    </tr>\n",
       "    <tr>\n",
       "      <th>17</th>\n",
       "      <td>Hong Kong</td>\n",
       "      <td>4746</td>\n",
       "      <td>2883</td>\n",
       "      <td>1863</td>\n",
       "      <td>8.08</td>\n",
       "      <td>10.00</td>\n",
       "      <td>11.93</td>\n",
       "    </tr>\n",
       "    <tr>\n",
       "      <th>48</th>\n",
       "      <td>Latvia</td>\n",
       "      <td>6450</td>\n",
       "      <td>4479</td>\n",
       "      <td>1971</td>\n",
       "      <td>9.03</td>\n",
       "      <td>11.29</td>\n",
       "      <td>13.54</td>\n",
       "    </tr>\n",
       "    <tr>\n",
       "      <th>16</th>\n",
       "      <td>Honduras</td>\n",
       "      <td>4989</td>\n",
       "      <td>3154</td>\n",
       "      <td>1835</td>\n",
       "      <td>7.99</td>\n",
       "      <td>10.99</td>\n",
       "      <td>13.99</td>\n",
       "    </tr>\n",
       "    <tr>\n",
       "      <th>47</th>\n",
       "      <td>Finland</td>\n",
       "      <td>4045</td>\n",
       "      <td>2638</td>\n",
       "      <td>1407</td>\n",
       "      <td>9.03</td>\n",
       "      <td>13.54</td>\n",
       "      <td>18.06</td>\n",
       "    </tr>\n",
       "    <tr>\n",
       "      <th>52</th>\n",
       "      <td>Netherlands</td>\n",
       "      <td>5376</td>\n",
       "      <td>3779</td>\n",
       "      <td>1597</td>\n",
       "      <td>9.03</td>\n",
       "      <td>13.54</td>\n",
       "      <td>18.06</td>\n",
       "    </tr>\n",
       "    <tr>\n",
       "      <th>61</th>\n",
       "      <td>Switzerland</td>\n",
       "      <td>5506</td>\n",
       "      <td>3654</td>\n",
       "      <td>1852</td>\n",
       "      <td>12.88</td>\n",
       "      <td>20.46</td>\n",
       "      <td>26.96</td>\n",
       "    </tr>\n",
       "    <tr>\n",
       "      <th>5</th>\n",
       "      <td>Colombia</td>\n",
       "      <td>4991</td>\n",
       "      <td>3156</td>\n",
       "      <td>1835</td>\n",
       "      <td>4.31</td>\n",
       "      <td>6.86</td>\n",
       "      <td>9.93</td>\n",
       "    </tr>\n",
       "    <tr>\n",
       "      <th>12</th>\n",
       "      <td>Germany</td>\n",
       "      <td>5668</td>\n",
       "      <td>3814</td>\n",
       "      <td>1854</td>\n",
       "      <td>9.03</td>\n",
       "      <td>14.67</td>\n",
       "      <td>20.32</td>\n",
       "    </tr>\n",
       "    <tr>\n",
       "      <th>31</th>\n",
       "      <td>Philippines</td>\n",
       "      <td>6362</td>\n",
       "      <td>4154</td>\n",
       "      <td>2208</td>\n",
       "      <td>7.35</td>\n",
       "      <td>9.14</td>\n",
       "      <td>10.93</td>\n",
       "    </tr>\n",
       "    <tr>\n",
       "      <th>62</th>\n",
       "      <td>Australia</td>\n",
       "      <td>6114</td>\n",
       "      <td>4050</td>\n",
       "      <td>2064</td>\n",
       "      <td>7.84</td>\n",
       "      <td>12.12</td>\n",
       "      <td>16.39</td>\n",
       "    </tr>\n",
       "    <tr>\n",
       "      <th>23</th>\n",
       "      <td>Liechtenstein</td>\n",
       "      <td>3048</td>\n",
       "      <td>1712</td>\n",
       "      <td>1336</td>\n",
       "      <td>12.88</td>\n",
       "      <td>20.46</td>\n",
       "      <td>26.96</td>\n",
       "    </tr>\n",
       "    <tr>\n",
       "      <th>3</th>\n",
       "      <td>Bulgaria</td>\n",
       "      <td>6797</td>\n",
       "      <td>4819</td>\n",
       "      <td>1978</td>\n",
       "      <td>9.03</td>\n",
       "      <td>11.29</td>\n",
       "      <td>13.54</td>\n",
       "    </tr>\n",
       "    <tr>\n",
       "      <th>28</th>\n",
       "      <td>Norway</td>\n",
       "      <td>4528</td>\n",
       "      <td>2955</td>\n",
       "      <td>1573</td>\n",
       "      <td>9.94</td>\n",
       "      <td>12.17</td>\n",
       "      <td>17.75</td>\n",
       "    </tr>\n",
       "    <tr>\n",
       "      <th>19</th>\n",
       "      <td>India</td>\n",
       "      <td>5843</td>\n",
       "      <td>3718</td>\n",
       "      <td>2125</td>\n",
       "      <td>2.64</td>\n",
       "      <td>6.61</td>\n",
       "      <td>8.60</td>\n",
       "    </tr>\n",
       "    <tr>\n",
       "      <th>40</th>\n",
       "      <td>Thailand</td>\n",
       "      <td>4948</td>\n",
       "      <td>2977</td>\n",
       "      <td>1971</td>\n",
       "      <td>8.34</td>\n",
       "      <td>10.43</td>\n",
       "      <td>12.52</td>\n",
       "    </tr>\n",
       "  </tbody>\n",
       "</table>\n",
       "</div>"
      ],
      "text/plain": [
       "           Country  Total Library Size  No. of TV Shows  No. of Movies  \\\n",
       "22           Japan                5475             3619           1856   \n",
       "1          Austria                5640             3779           1861   \n",
       "15       Guatemala                4767             3154           1613   \n",
       "60         Ireland                6486             4515           1971   \n",
       "6       Costa Rica                4988             3152           1836   \n",
       "43         Uruguay                4989             3154           1835   \n",
       "36        Slovakia                7035             5055           1980   \n",
       "2          Bolivia                4991             3155           1836   \n",
       "9          Ecuador                4992             3155           1837   \n",
       "57  United Kingdom                6643             4551           2092   \n",
       "33         Romania                5303             3832           1471   \n",
       "58       Indonesia                3887             2449           1438   \n",
       "50         Hungary                6884             4802           2082   \n",
       "0        Argentina                4760             3154           1606   \n",
       "14          Greece                4772             3344           1428   \n",
       "17       Hong Kong                4746             2883           1863   \n",
       "48          Latvia                6450             4479           1971   \n",
       "16        Honduras                4989             3154           1835   \n",
       "47         Finland                4045             2638           1407   \n",
       "52     Netherlands                5376             3779           1597   \n",
       "61     Switzerland                5506             3654           1852   \n",
       "5         Colombia                4991             3156           1835   \n",
       "12         Germany                5668             3814           1854   \n",
       "31     Philippines                6362             4154           2208   \n",
       "62       Australia                6114             4050           2064   \n",
       "23   Liechtenstein                3048             1712           1336   \n",
       "3         Bulgaria                6797             4819           1978   \n",
       "28          Norway                4528             2955           1573   \n",
       "19           India                5843             3718           2125   \n",
       "40        Thailand                4948             2977           1971   \n",
       "\n",
       "    Cost Per Month - Basic ($)  Cost Per Month - Standard ($)  \\\n",
       "22                        8.73                          13.13   \n",
       "1                         9.03                          14.67   \n",
       "15                        7.99                          10.99   \n",
       "60                        9.03                          14.67   \n",
       "6                         8.99                          12.99   \n",
       "43                        8.99                          12.99   \n",
       "36                        9.03                          11.29   \n",
       "2                         7.99                          10.99   \n",
       "9                         7.99                          10.99   \n",
       "57                        7.91                          13.20   \n",
       "33                        9.03                          11.29   \n",
       "58                        8.36                          10.66   \n",
       "50                        7.64                          10.71   \n",
       "0                         3.74                           6.30   \n",
       "14                        9.03                          12.42   \n",
       "17                        8.08                          10.00   \n",
       "48                        9.03                          11.29   \n",
       "16                        7.99                          10.99   \n",
       "47                        9.03                          13.54   \n",
       "52                        9.03                          13.54   \n",
       "61                       12.88                          20.46   \n",
       "5                         4.31                           6.86   \n",
       "12                        9.03                          14.67   \n",
       "31                        7.35                           9.14   \n",
       "62                        7.84                          12.12   \n",
       "23                       12.88                          20.46   \n",
       "3                         9.03                          11.29   \n",
       "28                        9.94                          12.17   \n",
       "19                        2.64                           6.61   \n",
       "40                        8.34                          10.43   \n",
       "\n",
       "    Cost Per Month - Premium ($)  \n",
       "22                         17.45  \n",
       "1                          20.32  \n",
       "15                         13.99  \n",
       "60                         20.32  \n",
       "6                          15.99  \n",
       "43                         15.99  \n",
       "36                         13.54  \n",
       "2                          13.99  \n",
       "9                          13.99  \n",
       "57                         18.48  \n",
       "33                         13.54  \n",
       "58                         12.96  \n",
       "50                         13.78  \n",
       "0                           9.26  \n",
       "14                         15.80  \n",
       "17                         11.93  \n",
       "48                         13.54  \n",
       "16                         13.99  \n",
       "47                         18.06  \n",
       "52                         18.06  \n",
       "61                         26.96  \n",
       "5                           9.93  \n",
       "12                         20.32  \n",
       "31                         10.93  \n",
       "62                         16.39  \n",
       "23                         26.96  \n",
       "3                          13.54  \n",
       "28                         17.75  \n",
       "19                          8.60  \n",
       "40                         12.52  "
      ]
     },
     "execution_count": 96,
     "metadata": {},
     "output_type": "execute_result"
    }
   ],
   "source": [
    "net.sample(30)"
   ]
  },
  {
   "cell_type": "code",
   "execution_count": 98,
   "id": "589522b3",
   "metadata": {},
   "outputs": [
    {
     "data": {
      "text/plain": [
       "Index(['Country', 'Total Library Size', 'No. of TV Shows', 'No. of Movies',\n",
       "       'Cost Per Month - Basic ($)', 'Cost Per Month - Standard ($)',\n",
       "       'Cost Per Month - Premium ($)'],\n",
       "      dtype='object')"
      ]
     },
     "execution_count": 98,
     "metadata": {},
     "output_type": "execute_result"
    }
   ],
   "source": [
    "net.columns"
   ]
  },
  {
   "cell_type": "code",
   "execution_count": 99,
   "id": "08c1b3ac",
   "metadata": {},
   "outputs": [
    {
     "name": "stdout",
     "output_type": "stream",
     "text": [
      "          Country  Total Library Size  No. of TV Shows  No. of Movies  \\\n",
      "10        Estonia                6456             4486           1970   \n",
      "11         France                5445             3604           1841   \n",
      "12        Germany                5668             3814           1854   \n",
      "13      Gibraltar                6167             4079           2088   \n",
      "14         Greece                4772             3344           1428   \n",
      "15      Guatemala                4767             3154           1613   \n",
      "16       Honduras                4989             3154           1835   \n",
      "17      Hong Kong                4746             2883           1863   \n",
      "18        Iceland                6387             4426           1961   \n",
      "19          India                5843             3718           2125   \n",
      "20         Israel                5713             3650           2063   \n",
      "21          Italy                5183             3545           1638   \n",
      "22          Japan                5475             3619           1856   \n",
      "23  Liechtenstein                3048             1712           1336   \n",
      "24       Malaysia                5952             3565           2387   \n",
      "25         Mexico                4993             3158           1835   \n",
      "26        Moldova                3937             2473           1464   \n",
      "27         Monaco                5804             3806           1998   \n",
      "28         Norway                4528             2955           1573   \n",
      "29       Paraguay                4797             3155           1642   \n",
      "\n",
      "    Cost Per Month - Basic ($)  Cost Per Month - Standard ($)  \\\n",
      "10                        9.03                          11.29   \n",
      "11                       10.16                          15.24   \n",
      "12                        9.03                          14.67   \n",
      "13                        9.03                          14.67   \n",
      "14                        9.03                          12.42   \n",
      "15                        7.99                          10.99   \n",
      "16                        7.99                          10.99   \n",
      "17                        8.08                          10.00   \n",
      "18                        9.03                          14.67   \n",
      "19                        2.64                           6.61   \n",
      "20                       10.56                          15.05   \n",
      "21                        9.03                          14.67   \n",
      "22                        8.73                          13.13   \n",
      "23                       12.88                          20.46   \n",
      "24                        8.29                          10.65   \n",
      "25                        6.62                          10.43   \n",
      "26                        9.03                          11.29   \n",
      "27                        9.03                          13.54   \n",
      "28                        9.94                          12.17   \n",
      "29                        8.29                          11.49   \n",
      "\n",
      "    Cost Per Month - Premium ($)  \n",
      "10                         13.54  \n",
      "11                         20.32  \n",
      "12                         20.32  \n",
      "13                         20.32  \n",
      "14                         15.80  \n",
      "15                         13.99  \n",
      "16                         13.99  \n",
      "17                         11.93  \n",
      "18                         20.32  \n",
      "19                          8.60  \n",
      "20                         19.54  \n",
      "21                         20.32  \n",
      "22                         17.45  \n",
      "23                         26.96  \n",
      "24                         13.02  \n",
      "25                         14.24  \n",
      "26                         13.54  \n",
      "27                         18.06  \n",
      "28                         17.75  \n",
      "29                         14.69  \n"
     ]
    }
   ],
   "source": [
    "print(net[10: 30])"
   ]
  },
  {
   "cell_type": "markdown",
   "id": "25166e4b",
   "metadata": {},
   "source": [
    "#####  Writing to csv"
   ]
  },
  {
   "cell_type": "code",
   "execution_count": null,
   "id": "0600b4b9",
   "metadata": {},
   "outputs": [],
   "source": []
  },
  {
   "cell_type": "code",
   "execution_count": null,
   "id": "575444f0",
   "metadata": {},
   "outputs": [],
   "source": []
  },
  {
   "cell_type": "markdown",
   "id": "09a6ccd0",
   "metadata": {},
   "source": [
    "#####  Reading from text Files"
   ]
  },
  {
   "cell_type": "code",
   "execution_count": 44,
   "id": "d6b61cff",
   "metadata": {},
   "outputs": [],
   "source": [
    "df1= pd.read_csv('C:/Users/Sudev babu/Machine Learning/show.txt', sep='\\t') "
   ]
  },
  {
   "cell_type": "code",
   "execution_count": 45,
   "id": "61001499",
   "metadata": {},
   "outputs": [
    {
     "name": "stdout",
     "output_type": "stream",
     "text": [
      "READ TXT:\n",
      " Empty DataFrame\n",
      "Columns: [Pandas are an open source Python package providing fast, flexible, and expressive data structures designed to make working with “relational” or “labeled” data both easy and intuitive. Pandas are well suited for tabular data with heterogeneously typed columns, as in an SQL table or Excel spreadsheet]\n",
      "Index: []\n"
     ]
    }
   ],
   "source": [
    "print(\"READ TXT:\\n\",df1)"
   ]
  },
  {
   "cell_type": "markdown",
   "id": "87bc4d91",
   "metadata": {},
   "source": [
    "#"
   ]
  },
  {
   "cell_type": "markdown",
   "id": "8a735527",
   "metadata": {},
   "source": [
    "##### Writing to text Files"
   ]
  },
  {
   "cell_type": "code",
   "execution_count": 47,
   "id": "0f148015",
   "metadata": {},
   "outputs": [],
   "source": [
    "df1.to_csv('C:/Users/Sudev babu/Machine Learning/show.txt', sep='\\t', index=False)"
   ]
  },
  {
   "cell_type": "code",
   "execution_count": 48,
   "id": "6f6ce7b6",
   "metadata": {},
   "outputs": [
    {
     "name": "stdout",
     "output_type": "stream",
     "text": [
      "WRITE TXT:\n",
      " Empty DataFrame\n",
      "Columns: [Pandas are an open source Python package providing fast, flexible, and expressive data structures designed to make working with “relational” or “labeled” data both easy and intuitive. Pandas are well suited for tabular data with heterogeneously typed columns, as in an SQL table or Excel spreadsheet]\n",
      "Index: []\n"
     ]
    }
   ],
   "source": [
    "print(\"WRITE TXT:\\n\",df1)"
   ]
  },
  {
   "cell_type": "code",
   "execution_count": null,
   "id": "809873eb",
   "metadata": {},
   "outputs": [],
   "source": []
  },
  {
   "cell_type": "markdown",
   "id": "3b7043cc",
   "metadata": {},
   "source": [
    "#####  Reading from Excel File"
   ]
  },
  {
   "cell_type": "code",
   "execution_count": 53,
   "id": "33fe08d0",
   "metadata": {},
   "outputs": [],
   "source": [
    "df2=pd.read_excel('C:/Users/Sudev babu/Machine Learning/gate.xlsx','Sheet1')\n"
   ]
  },
  {
   "cell_type": "code",
   "execution_count": 55,
   "id": "cef84e05",
   "metadata": {},
   "outputs": [
    {
     "name": "stdout",
     "output_type": "stream",
     "text": [
      "READ EXCEL:\n",
      "    Sections/Units                                     Topics\n",
      "0       Section A                    Engineering Mathematics\n",
      "1          Unit 1                       Discrete Mathematics\n",
      "2          Unit 2                             Linear Algebra\n",
      "3          Unit 3                                   Calculus\n",
      "4          Unit 4                                Probability\n",
      "5       Section B                              Digital Logic\n",
      "6       Section C     Computer Organization and Architecture\n",
      "7       Section D            Programming and Data Structures\n",
      "8       Section E                                 Algorithms\n",
      "9       Section F                      Theory of Computation\n",
      "10      Section G                            Compiler Design\n",
      "11      Section H                           Operating System\n",
      "12      Section I                                  Databases\n",
      "13      Section J                          Computer Networks\n"
     ]
    }
   ],
   "source": [
    "print(\"READ EXCEL:\\n\",df2)"
   ]
  },
  {
   "cell_type": "markdown",
   "id": "69e34e8b",
   "metadata": {},
   "source": [
    "#####  Writing to Excel File"
   ]
  },
  {
   "cell_type": "code",
   "execution_count": 62,
   "id": "7e948452",
   "metadata": {},
   "outputs": [],
   "source": [
    "df2.to_excel('C:/Users/Sudev babu/Machine Learning/gate.xlsx',sheet_name='Sheet1', index = False)"
   ]
  },
  {
   "cell_type": "code",
   "execution_count": 63,
   "id": "7e9be044",
   "metadata": {},
   "outputs": [
    {
     "name": "stdout",
     "output_type": "stream",
     "text": [
      "WRITE EXCEL:\n",
      "    Sections/Units                                     Topics\n",
      "0       Section A                    Engineering Mathematics\n",
      "1          Unit 1                       Discrete Mathematics\n",
      "2          Unit 2                             Linear Algebra\n",
      "3          Unit 3                                   Calculus\n",
      "4          Unit 4                                Probability\n",
      "5       Section B                              Digital Logic\n",
      "6       Section C     Computer Organization and Architecture\n",
      "7       Section D            Programming and Data Structures\n",
      "8       Section E                                 Algorithms\n",
      "9       Section F                      Theory of Computation\n",
      "10      Section G                            Compiler Design\n",
      "11      Section H                           Operating System\n",
      "12      Section I                                  Databases\n",
      "13      Section J                          Computer Networks\n"
     ]
    }
   ],
   "source": [
    "print(\"WRITE EXCEL:\\n\",df2)"
   ]
  },
  {
   "cell_type": "code",
   "execution_count": null,
   "id": "600a3121",
   "metadata": {},
   "outputs": [],
   "source": []
  },
  {
   "cell_type": "markdown",
   "id": "278a060a",
   "metadata": {},
   "source": [
    "## Loading Data From Library:"
   ]
  },
  {
   "cell_type": "code",
   "execution_count": 117,
   "id": "91b45536",
   "metadata": {},
   "outputs": [],
   "source": [
    "from sklearn.datasets import load_iris"
   ]
  },
  {
   "cell_type": "code",
   "execution_count": 118,
   "id": "4b2e95da",
   "metadata": {},
   "outputs": [],
   "source": [
    "import numpy as np"
   ]
  },
  {
   "cell_type": "code",
   "execution_count": 119,
   "id": "444396ed",
   "metadata": {},
   "outputs": [],
   "source": [
    "iris=load_iris()"
   ]
  },
  {
   "cell_type": "code",
   "execution_count": 120,
   "id": "873a45f2",
   "metadata": {},
   "outputs": [],
   "source": [
    "X = pd.DataFrame(iris.data)"
   ]
  },
  {
   "cell_type": "code",
   "execution_count": null,
   "id": "b949eae3",
   "metadata": {},
   "outputs": [],
   "source": []
  },
  {
   "cell_type": "code",
   "execution_count": 121,
   "id": "097ac92d",
   "metadata": {},
   "outputs": [],
   "source": [
    "X.columns = ['Sepal_Length','Sepal_Width','Petal_Length','Petal_Width']"
   ]
  },
  {
   "cell_type": "code",
   "execution_count": 123,
   "id": "a24d8a3c",
   "metadata": {},
   "outputs": [
    {
     "name": "stdout",
     "output_type": "stream",
     "text": [
      "Shape:\n",
      " (150, 4)\n"
     ]
    }
   ],
   "source": [
    "print(\"Shape:\\n\",X.shape)"
   ]
  },
  {
   "cell_type": "code",
   "execution_count": 125,
   "id": "05a4163c",
   "metadata": {},
   "outputs": [
    {
     "name": "stdout",
     "output_type": "stream",
     "text": [
      "Head:\n",
      "     Sepal_Length  Sepal_Width  Petal_Length  Petal_Width\n",
      "0            5.1          3.5           1.4          0.2\n",
      "1            4.9          3.0           1.4          0.2\n",
      "2            4.7          3.2           1.3          0.2\n",
      "3            4.6          3.1           1.5          0.2\n",
      "4            5.0          3.6           1.4          0.2\n",
      "5            5.4          3.9           1.7          0.4\n",
      "6            4.6          3.4           1.4          0.3\n",
      "7            5.0          3.4           1.5          0.2\n",
      "8            4.4          2.9           1.4          0.2\n",
      "9            4.9          3.1           1.5          0.1\n",
      "10           5.4          3.7           1.5          0.2\n",
      "11           4.8          3.4           1.6          0.2\n",
      "12           4.8          3.0           1.4          0.1\n",
      "13           4.3          3.0           1.1          0.1\n",
      "14           5.8          4.0           1.2          0.2\n"
     ]
    }
   ],
   "source": [
    "print(\"Head:\\n\",X.head(15))"
   ]
  },
  {
   "cell_type": "code",
   "execution_count": 128,
   "id": "13162c12",
   "metadata": {},
   "outputs": [
    {
     "name": "stdout",
     "output_type": "stream",
     "text": [
      "Tail:\n",
      "      Sepal_Length  Sepal_Width  Petal_Length  Petal_Width\n",
      "145           6.7          3.0           5.2          2.3\n",
      "146           6.3          2.5           5.0          1.9\n",
      "147           6.5          3.0           5.2          2.0\n",
      "148           6.2          3.4           5.4          2.3\n",
      "149           5.9          3.0           5.1          1.8\n"
     ]
    }
   ],
   "source": [
    "print(\"Tail:\\n\",X.tail(5))"
   ]
  },
  {
   "cell_type": "code",
   "execution_count": 129,
   "id": "49a00fb4",
   "metadata": {},
   "outputs": [],
   "source": [
    "df = pd.DataFrame(iris.data)"
   ]
  },
  {
   "cell_type": "code",
   "execution_count": 130,
   "id": "aab03ef5",
   "metadata": {},
   "outputs": [],
   "source": [
    "df.columns = ['Sepal_Length','Sepal_Width','Petal_Length','Petal_Width']"
   ]
  },
  {
   "cell_type": "code",
   "execution_count": 131,
   "id": "ee3dfb5a",
   "metadata": {},
   "outputs": [
    {
     "data": {
      "text/html": [
       "<div>\n",
       "<style scoped>\n",
       "    .dataframe tbody tr th:only-of-type {\n",
       "        vertical-align: middle;\n",
       "    }\n",
       "\n",
       "    .dataframe tbody tr th {\n",
       "        vertical-align: top;\n",
       "    }\n",
       "\n",
       "    .dataframe thead th {\n",
       "        text-align: right;\n",
       "    }\n",
       "</style>\n",
       "<table border=\"1\" class=\"dataframe\">\n",
       "  <thead>\n",
       "    <tr style=\"text-align: right;\">\n",
       "      <th></th>\n",
       "      <th>Sepal_Length</th>\n",
       "      <th>Sepal_Width</th>\n",
       "      <th>Petal_Length</th>\n",
       "      <th>Petal_Width</th>\n",
       "    </tr>\n",
       "  </thead>\n",
       "  <tbody>\n",
       "    <tr>\n",
       "      <th>count</th>\n",
       "      <td>150.000000</td>\n",
       "      <td>150.000000</td>\n",
       "      <td>150.000000</td>\n",
       "      <td>150.000000</td>\n",
       "    </tr>\n",
       "    <tr>\n",
       "      <th>mean</th>\n",
       "      <td>5.843333</td>\n",
       "      <td>3.057333</td>\n",
       "      <td>3.758000</td>\n",
       "      <td>1.199333</td>\n",
       "    </tr>\n",
       "    <tr>\n",
       "      <th>std</th>\n",
       "      <td>0.828066</td>\n",
       "      <td>0.435866</td>\n",
       "      <td>1.765298</td>\n",
       "      <td>0.762238</td>\n",
       "    </tr>\n",
       "    <tr>\n",
       "      <th>min</th>\n",
       "      <td>4.300000</td>\n",
       "      <td>2.000000</td>\n",
       "      <td>1.000000</td>\n",
       "      <td>0.100000</td>\n",
       "    </tr>\n",
       "    <tr>\n",
       "      <th>25%</th>\n",
       "      <td>5.100000</td>\n",
       "      <td>2.800000</td>\n",
       "      <td>1.600000</td>\n",
       "      <td>0.300000</td>\n",
       "    </tr>\n",
       "    <tr>\n",
       "      <th>50%</th>\n",
       "      <td>5.800000</td>\n",
       "      <td>3.000000</td>\n",
       "      <td>4.350000</td>\n",
       "      <td>1.300000</td>\n",
       "    </tr>\n",
       "    <tr>\n",
       "      <th>75%</th>\n",
       "      <td>6.400000</td>\n",
       "      <td>3.300000</td>\n",
       "      <td>5.100000</td>\n",
       "      <td>1.800000</td>\n",
       "    </tr>\n",
       "    <tr>\n",
       "      <th>max</th>\n",
       "      <td>7.900000</td>\n",
       "      <td>4.400000</td>\n",
       "      <td>6.900000</td>\n",
       "      <td>2.500000</td>\n",
       "    </tr>\n",
       "  </tbody>\n",
       "</table>\n",
       "</div>"
      ],
      "text/plain": [
       "       Sepal_Length  Sepal_Width  Petal_Length  Petal_Width\n",
       "count    150.000000   150.000000    150.000000   150.000000\n",
       "mean       5.843333     3.057333      3.758000     1.199333\n",
       "std        0.828066     0.435866      1.765298     0.762238\n",
       "min        4.300000     2.000000      1.000000     0.100000\n",
       "25%        5.100000     2.800000      1.600000     0.300000\n",
       "50%        5.800000     3.000000      4.350000     1.300000\n",
       "75%        6.400000     3.300000      5.100000     1.800000\n",
       "max        7.900000     4.400000      6.900000     2.500000"
      ]
     },
     "execution_count": 131,
     "metadata": {},
     "output_type": "execute_result"
    }
   ],
   "source": [
    "df.describe()"
   ]
  },
  {
   "cell_type": "markdown",
   "id": "de9aaaa2",
   "metadata": {},
   "source": [
    "#####  cov() - Covariance indicates how two variables are related."
   ]
  },
  {
   "cell_type": "code",
   "execution_count": 132,
   "id": "c505d6fd",
   "metadata": {},
   "outputs": [
    {
     "data": {
      "text/html": [
       "<div>\n",
       "<style scoped>\n",
       "    .dataframe tbody tr th:only-of-type {\n",
       "        vertical-align: middle;\n",
       "    }\n",
       "\n",
       "    .dataframe tbody tr th {\n",
       "        vertical-align: top;\n",
       "    }\n",
       "\n",
       "    .dataframe thead th {\n",
       "        text-align: right;\n",
       "    }\n",
       "</style>\n",
       "<table border=\"1\" class=\"dataframe\">\n",
       "  <thead>\n",
       "    <tr style=\"text-align: right;\">\n",
       "      <th></th>\n",
       "      <th>Sepal_Length</th>\n",
       "      <th>Sepal_Width</th>\n",
       "      <th>Petal_Length</th>\n",
       "      <th>Petal_Width</th>\n",
       "    </tr>\n",
       "  </thead>\n",
       "  <tbody>\n",
       "    <tr>\n",
       "      <th>Sepal_Length</th>\n",
       "      <td>0.685694</td>\n",
       "      <td>-0.042434</td>\n",
       "      <td>1.274315</td>\n",
       "      <td>0.516271</td>\n",
       "    </tr>\n",
       "    <tr>\n",
       "      <th>Sepal_Width</th>\n",
       "      <td>-0.042434</td>\n",
       "      <td>0.189979</td>\n",
       "      <td>-0.329656</td>\n",
       "      <td>-0.121639</td>\n",
       "    </tr>\n",
       "    <tr>\n",
       "      <th>Petal_Length</th>\n",
       "      <td>1.274315</td>\n",
       "      <td>-0.329656</td>\n",
       "      <td>3.116278</td>\n",
       "      <td>1.295609</td>\n",
       "    </tr>\n",
       "    <tr>\n",
       "      <th>Petal_Width</th>\n",
       "      <td>0.516271</td>\n",
       "      <td>-0.121639</td>\n",
       "      <td>1.295609</td>\n",
       "      <td>0.581006</td>\n",
       "    </tr>\n",
       "  </tbody>\n",
       "</table>\n",
       "</div>"
      ],
      "text/plain": [
       "              Sepal_Length  Sepal_Width  Petal_Length  Petal_Width\n",
       "Sepal_Length      0.685694    -0.042434      1.274315     0.516271\n",
       "Sepal_Width      -0.042434     0.189979     -0.329656    -0.121639\n",
       "Petal_Length      1.274315    -0.329656      3.116278     1.295609\n",
       "Petal_Width       0.516271    -0.121639      1.295609     0.581006"
      ]
     },
     "execution_count": 132,
     "metadata": {},
     "output_type": "execute_result"
    }
   ],
   "source": [
    "df.cov()"
   ]
  },
  {
   "cell_type": "markdown",
   "id": "9b62c110",
   "metadata": {},
   "source": [
    "##### corr() - Correlation is another way to determine how two variables are related. "
   ]
  },
  {
   "cell_type": "code",
   "execution_count": 133,
   "id": "20fa2f30",
   "metadata": {},
   "outputs": [
    {
     "data": {
      "text/html": [
       "<div>\n",
       "<style scoped>\n",
       "    .dataframe tbody tr th:only-of-type {\n",
       "        vertical-align: middle;\n",
       "    }\n",
       "\n",
       "    .dataframe tbody tr th {\n",
       "        vertical-align: top;\n",
       "    }\n",
       "\n",
       "    .dataframe thead th {\n",
       "        text-align: right;\n",
       "    }\n",
       "</style>\n",
       "<table border=\"1\" class=\"dataframe\">\n",
       "  <thead>\n",
       "    <tr style=\"text-align: right;\">\n",
       "      <th></th>\n",
       "      <th>Sepal_Length</th>\n",
       "      <th>Sepal_Width</th>\n",
       "      <th>Petal_Length</th>\n",
       "      <th>Petal_Width</th>\n",
       "    </tr>\n",
       "  </thead>\n",
       "  <tbody>\n",
       "    <tr>\n",
       "      <th>Sepal_Length</th>\n",
       "      <td>1.000000</td>\n",
       "      <td>-0.117570</td>\n",
       "      <td>0.871754</td>\n",
       "      <td>0.817941</td>\n",
       "    </tr>\n",
       "    <tr>\n",
       "      <th>Sepal_Width</th>\n",
       "      <td>-0.117570</td>\n",
       "      <td>1.000000</td>\n",
       "      <td>-0.428440</td>\n",
       "      <td>-0.366126</td>\n",
       "    </tr>\n",
       "    <tr>\n",
       "      <th>Petal_Length</th>\n",
       "      <td>0.871754</td>\n",
       "      <td>-0.428440</td>\n",
       "      <td>1.000000</td>\n",
       "      <td>0.962865</td>\n",
       "    </tr>\n",
       "    <tr>\n",
       "      <th>Petal_Width</th>\n",
       "      <td>0.817941</td>\n",
       "      <td>-0.366126</td>\n",
       "      <td>0.962865</td>\n",
       "      <td>1.000000</td>\n",
       "    </tr>\n",
       "  </tbody>\n",
       "</table>\n",
       "</div>"
      ],
      "text/plain": [
       "              Sepal_Length  Sepal_Width  Petal_Length  Petal_Width\n",
       "Sepal_Length      1.000000    -0.117570      0.871754     0.817941\n",
       "Sepal_Width      -0.117570     1.000000     -0.428440    -0.366126\n",
       "Petal_Length      0.871754    -0.428440      1.000000     0.962865\n",
       "Petal_Width       0.817941    -0.366126      0.962865     1.000000"
      ]
     },
     "execution_count": 133,
     "metadata": {},
     "output_type": "execute_result"
    }
   ],
   "source": [
    "df.corr()"
   ]
  },
  {
   "cell_type": "markdown",
   "id": "83ed14d2",
   "metadata": {},
   "source": [
    "## Grouping -"
   ]
  },
  {
   "cell_type": "markdown",
   "id": "c526859d",
   "metadata": {},
   "source": [
    "######  Grouping involves one or more of the following steps:\n",
    "###### • Splitting the data into groups based on some criteria, \n",
    "###### • Applying a function to each group independently, \n",
    "###### • Combining the results into a data structure"
   ]
  },
  {
   "cell_type": "code",
   "execution_count": 134,
   "id": "d89afeea",
   "metadata": {},
   "outputs": [],
   "source": [
    "df = pd.DataFrame({'Name' : ['jack', 'jane', 'jack', 'jane', 'jack', 'jane', 'jack', 'jane'],\n",
    "                   'State' : ['SFO', 'SFO', 'NYK', 'CA', 'NYK', 'NYK','SFO', 'CA'],\n",
    "                   'Grade':['A','A','B','A','C','B','C','A'],\n",
    "                   'Age' : np.random.uniform(24, 50, size=8),\n",
    "                   'Salary' : np.random.uniform(3000, 5000, size=8),})"
   ]
  },
  {
   "cell_type": "code",
   "execution_count": 135,
   "id": "f1317d25",
   "metadata": {},
   "outputs": [
    {
     "data": {
      "text/html": [
       "<div>\n",
       "<style scoped>\n",
       "    .dataframe tbody tr th:only-of-type {\n",
       "        vertical-align: middle;\n",
       "    }\n",
       "\n",
       "    .dataframe tbody tr th {\n",
       "        vertical-align: top;\n",
       "    }\n",
       "\n",
       "    .dataframe thead th {\n",
       "        text-align: right;\n",
       "    }\n",
       "</style>\n",
       "<table border=\"1\" class=\"dataframe\">\n",
       "  <thead>\n",
       "    <tr style=\"text-align: right;\">\n",
       "      <th></th>\n",
       "      <th></th>\n",
       "      <th>Grade</th>\n",
       "      <th>Age</th>\n",
       "      <th>Salary</th>\n",
       "    </tr>\n",
       "    <tr>\n",
       "      <th>Name</th>\n",
       "      <th>State</th>\n",
       "      <th></th>\n",
       "      <th></th>\n",
       "      <th></th>\n",
       "    </tr>\n",
       "  </thead>\n",
       "  <tbody>\n",
       "    <tr>\n",
       "      <th rowspan=\"2\" valign=\"top\">jack</th>\n",
       "      <th>NYK</th>\n",
       "      <td>C</td>\n",
       "      <td>48.805655</td>\n",
       "      <td>4796.832632</td>\n",
       "    </tr>\n",
       "    <tr>\n",
       "      <th>SFO</th>\n",
       "      <td>C</td>\n",
       "      <td>36.331063</td>\n",
       "      <td>3902.083453</td>\n",
       "    </tr>\n",
       "    <tr>\n",
       "      <th rowspan=\"3\" valign=\"top\">jane</th>\n",
       "      <th>CA</th>\n",
       "      <td>A</td>\n",
       "      <td>42.007928</td>\n",
       "      <td>4697.865196</td>\n",
       "    </tr>\n",
       "    <tr>\n",
       "      <th>NYK</th>\n",
       "      <td>B</td>\n",
       "      <td>31.259644</td>\n",
       "      <td>4444.532287</td>\n",
       "    </tr>\n",
       "    <tr>\n",
       "      <th>SFO</th>\n",
       "      <td>A</td>\n",
       "      <td>36.038642</td>\n",
       "      <td>4636.936048</td>\n",
       "    </tr>\n",
       "  </tbody>\n",
       "</table>\n",
       "</div>"
      ],
      "text/plain": [
       "           Grade        Age       Salary\n",
       "Name State                              \n",
       "jack NYK       C  48.805655  4796.832632\n",
       "     SFO       C  36.331063  3902.083453\n",
       "jane CA        A  42.007928  4697.865196\n",
       "     NYK       B  31.259644  4444.532287\n",
       "     SFO       A  36.038642  4636.936048"
      ]
     },
     "execution_count": 135,
     "metadata": {},
     "output_type": "execute_result"
    }
   ],
   "source": [
    "df.groupby(['Name','State']).max()"
   ]
  },
  {
   "cell_type": "code",
   "execution_count": 136,
   "id": "0cd613de",
   "metadata": {},
   "outputs": [
    {
     "name": "stdout",
     "output_type": "stream",
     "text": [
      "   Name State Grade        Age       Salary\n",
      "0  jack   SFO     A  25.714296  3902.083453\n",
      "1  jane   SFO     A  36.038642  4636.936048\n",
      "2  jack   NYK     B  43.156775  4009.579552\n",
      "3  jane    CA     A  42.007928  4697.865196\n",
      "4  jack   NYK     C  48.805655  4796.832632\n",
      "5  jane   NYK     B  31.259644  4444.532287\n",
      "6  jack   SFO     C  36.331063  3776.238285\n",
      "7  jane    CA     A  41.668884  3097.232991\n"
     ]
    }
   ],
   "source": [
    "print(df)"
   ]
  },
  {
   "cell_type": "code",
   "execution_count": null,
   "id": "c26c0ab9",
   "metadata": {},
   "outputs": [],
   "source": []
  }
 ],
 "metadata": {
  "kernelspec": {
   "display_name": "Python 3 (ipykernel)",
   "language": "python",
   "name": "python3"
  },
  "language_info": {
   "codemirror_mode": {
    "name": "ipython",
    "version": 3
   },
   "file_extension": ".py",
   "mimetype": "text/x-python",
   "name": "python",
   "nbconvert_exporter": "python",
   "pygments_lexer": "ipython3",
   "version": "3.9.7"
  }
 },
 "nbformat": 4,
 "nbformat_minor": 5
}
