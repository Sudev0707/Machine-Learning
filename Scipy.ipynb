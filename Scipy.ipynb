{
 "cells": [
  {
   "cell_type": "markdown",
   "id": "c15ded21",
   "metadata": {},
   "source": [
    "# Scipy "
   ]
  },
  {
   "cell_type": "markdown",
   "id": "73c6704b",
   "metadata": {},
   "source": [
    "#### SciPy, pronounced as Sigh Pi, is a scientific python open source, distributed under the BSD licensed library to perform Mathematical, Scientific and Engineering Computations. The SciPy library depends on NumPy, which provides convenient and fast N-dimensional array manipulation. The SciPy library is built to work with NumPy arrays and provides many user-friendly and efficient numerical practices such as routines for numerical integration and optimization. Together, they run on all popular operating systems, are quick to install and are free of charge. NumPy and SciPy are easy to use, but powerful enough to depend on by some of the world's leading scientists and engineers.\n",
    "\n",
    "#### https://scipy-lectures.org/\n",
    "###        \n"
   ]
  },
  {
   "cell_type": "code",
   "execution_count": 1,
   "id": "bff3a8f2",
   "metadata": {},
   "outputs": [],
   "source": [
    "import numpy as np"
   ]
  },
  {
   "cell_type": "code",
   "execution_count": 2,
   "id": "f40e9a58",
   "metadata": {},
   "outputs": [
    {
     "name": "stdout",
     "output_type": "stream",
     "text": [
      "[1.  1.6 2.2 2.8 3.4 4. ]\n"
     ]
    }
   ],
   "source": [
    "print(np.linspace(1., 4., 6))"
   ]
  },
  {
   "cell_type": "markdown",
   "id": "683bf850",
   "metadata": {},
   "source": [
    "####       "
   ]
  },
  {
   "cell_type": "markdown",
   "id": "866c2d6f",
   "metadata": {},
   "source": [
    "###  K-Means Implementation in SciPy"
   ]
  },
  {
   "cell_type": "code",
   "execution_count": 3,
   "id": "f87f2a0f",
   "metadata": {},
   "outputs": [],
   "source": [
    "from scipy.cluster.vq import kmeans,vq,whiten"
   ]
  },
  {
   "cell_type": "code",
   "execution_count": 4,
   "id": "79cdb9d0",
   "metadata": {},
   "outputs": [],
   "source": [
    "from numpy import vstack,array"
   ]
  },
  {
   "cell_type": "code",
   "execution_count": 5,
   "id": "ff0563f5",
   "metadata": {},
   "outputs": [],
   "source": [
    "from numpy.random import rand"
   ]
  },
  {
   "cell_type": "code",
   "execution_count": 9,
   "id": "a8f5980e",
   "metadata": {},
   "outputs": [],
   "source": [
    "# data generation with three features\n",
    "\n",
    "data = vstack((rand(10,3) + array([.5,.5,.5]),rand(10,3)))"
   ]
  },
  {
   "cell_type": "code",
   "execution_count": 10,
   "id": "2abb5be7",
   "metadata": {},
   "outputs": [
    {
     "name": "stdout",
     "output_type": "stream",
     "text": [
      "[[0.56277681 1.19659178 0.60540895]\n",
      " [1.26421834 0.81194724 1.38870664]\n",
      " [0.86505706 1.22780865 0.90811355]\n",
      " [0.62989644 0.79625693 1.03868249]\n",
      " [1.00665654 1.45942954 0.6452284 ]\n",
      " [1.20964196 1.25095695 0.57920503]\n",
      " [0.81717673 0.72529366 0.78966626]\n",
      " [1.11642976 0.98273137 1.43723891]\n",
      " [1.30126959 0.95857326 0.63929221]\n",
      " [0.66148249 0.58562988 0.74421793]\n",
      " [0.57672869 0.34354002 0.9727458 ]\n",
      " [0.04352153 0.77322205 0.08772268]\n",
      " [0.29820736 0.72949779 0.89310292]\n",
      " [0.98111331 0.31620395 0.86024269]\n",
      " [0.58753038 0.60794963 0.7384155 ]\n",
      " [0.95257998 0.00154525 0.43878064]\n",
      " [0.62118288 0.81725821 0.94028651]\n",
      " [0.6680299  0.75252111 0.55698188]\n",
      " [0.86444286 0.40855456 0.09570056]\n",
      " [0.27519482 0.50981657 0.22144367]]\n"
     ]
    }
   ],
   "source": [
    "print(data)"
   ]
  },
  {
   "cell_type": "code",
   "execution_count": 11,
   "id": "8a9f842b",
   "metadata": {},
   "outputs": [],
   "source": [
    "# whitening of data for normalizing\n",
    "\n",
    "data = whiten(data)"
   ]
  },
  {
   "cell_type": "code",
   "execution_count": 12,
   "id": "7eb011c1",
   "metadata": {},
   "outputs": [
    {
     "name": "stdout",
     "output_type": "stream",
     "text": [
      "[[1.71004197 3.43746053 1.72849746]\n",
      " [3.84142772 2.33248851 3.9648834 ]\n",
      " [2.62854451 3.52713752 2.59274656]\n",
      " [1.91399029 2.28741481 2.96553272]\n",
      " [3.05880575 4.19251705 1.8421856 ]\n",
      " [3.67559307 3.59363585 1.65368289]\n",
      " [2.48305633 2.08355795 2.25456879]\n",
      " [3.39236038 2.82310169 4.10344744]\n",
      " [3.95401089 2.75370247 1.82523725]\n",
      " [2.00996703 1.68234448 2.12480968]\n",
      " [1.75243587 0.98689065 2.77727749]\n",
      " [0.13224361 2.22124229 0.25045622]\n",
      " [0.90612671 2.0956352  2.54988982]\n",
      " [2.98119062 0.90836207 2.4560709 ]\n",
      " [1.78525767 1.74646264 2.10824322]\n",
      " [2.89448983 0.00443905 1.25275853]\n",
      " [1.88751345 2.34774539 2.68460328]\n",
      " [2.02986185 2.16177451 1.59023379]\n",
      " [2.62667819 1.17365856 0.27323377]\n",
      " [0.83620129 1.46455489 0.63224178]]\n"
     ]
    }
   ],
   "source": [
    "print(data)"
   ]
  },
  {
   "cell_type": "code",
   "execution_count": 15,
   "id": "2ff5475d",
   "metadata": {},
   "outputs": [],
   "source": [
    "# computing K-Means with K = 3 (2 clusters)\n",
    "\n",
    "centroids,_ = kmeans(data,7)"
   ]
  },
  {
   "cell_type": "code",
   "execution_count": 16,
   "id": "8e00d96a",
   "metadata": {},
   "outputs": [
    {
     "name": "stdout",
     "output_type": "stream",
     "text": [
      "Centroids:\n",
      " [[3.61689405 2.5777951  4.03416542]\n",
      " [3.81480198 3.17366916 1.73946007]\n",
      " [2.93784022 0.45640056 1.85441471]\n",
      " [1.84602615 1.9239782  2.38189485]\n",
      " [0.48422245 1.84289859 0.441349  ]\n",
      " [2.46579741 3.71903837 2.05447654]\n",
      " [2.62667819 1.17365856 0.27323377]]\n"
     ]
    }
   ],
   "source": [
    "print(\"Centroids:\\n\",centroids)"
   ]
  },
  {
   "cell_type": "code",
   "execution_count": 17,
   "id": "11b2c5d2",
   "metadata": {},
   "outputs": [],
   "source": [
    "# assign each sample to a cluster\n",
    "\n",
    "clx,_ = vq(data,centroids)"
   ]
  },
  {
   "cell_type": "code",
   "execution_count": 18,
   "id": "08cbe2b8",
   "metadata": {},
   "outputs": [
    {
     "name": "stdout",
     "output_type": "stream",
     "text": [
      "Cluster:\n",
      " [5 0 5 3 5 1 3 0 1 3 3 4 3 2 3 2 3 3 6 4]\n"
     ]
    }
   ],
   "source": [
    "print(\"Cluster:\\n\",clx)"
   ]
  },
  {
   "cell_type": "code",
   "execution_count": 19,
   "id": "a0293edc",
   "metadata": {},
   "outputs": [],
   "source": [
    "#Fast Fourier Transform\n",
    "#Importing the fft and inverse fft functions from fftpackage\n",
    "\n",
    "from scipy.fftpack import fft"
   ]
  },
  {
   "cell_type": "code",
   "execution_count": 20,
   "id": "e6fd7781",
   "metadata": {},
   "outputs": [],
   "source": [
    "#create an array with random n numbers\n",
    "\n",
    "x = np.array([1.0, 2.0, 1.0, -1.0, 1.5])"
   ]
  },
  {
   "cell_type": "code",
   "execution_count": 21,
   "id": "a7e27477",
   "metadata": {},
   "outputs": [],
   "source": [
    "y = fft(x)"
   ]
  },
  {
   "cell_type": "code",
   "execution_count": 22,
   "id": "b743d2ff",
   "metadata": {},
   "outputs": [
    {
     "name": "stdout",
     "output_type": "stream",
     "text": [
      "FFT :\n",
      " [ 4.5       -0.j          2.08155948-1.65109876j -1.83155948+1.60822041j\n",
      " -1.83155948-1.60822041j  2.08155948+1.65109876j]\n"
     ]
    }
   ],
   "source": [
    "print(\"FFT :\\n\",y)"
   ]
  },
  {
   "cell_type": "code",
   "execution_count": 23,
   "id": "4d9db125",
   "metadata": {},
   "outputs": [],
   "source": [
    "from scipy.fftpack import ifft"
   ]
  },
  {
   "cell_type": "code",
   "execution_count": 24,
   "id": "9dac6209",
   "metadata": {},
   "outputs": [],
   "source": [
    "yinv = ifft(y)"
   ]
  },
  {
   "cell_type": "code",
   "execution_count": 25,
   "id": "8be3f9fd",
   "metadata": {},
   "outputs": [
    {
     "name": "stdout",
     "output_type": "stream",
     "text": [
      "FFT Inverse:\n",
      " [ 1. +0.j  2. +0.j  1. +0.j -1. +0.j  1.5+0.j]\n"
     ]
    }
   ],
   "source": [
    "print(\"FFT Inverse:\\n\",yinv)"
   ]
  },
  {
   "cell_type": "code",
   "execution_count": 26,
   "id": "ad180b4b",
   "metadata": {},
   "outputs": [
    {
     "name": "stdout",
     "output_type": "stream",
     "text": [
      "DCT:\n",
      " [ 60.          -3.48476592 -13.85640646  11.3137085    6.\n",
      "  -6.31319305]\n"
     ]
    }
   ],
   "source": [
    "#Discrete Cosine Transform\n",
    "\n",
    "from scipy.fftpack import dct\n",
    "print (\"DCT:\\n\",dct(np.array([4., 3., 5., 10., 5., 3.])))"
   ]
  },
  {
   "cell_type": "code",
   "execution_count": 27,
   "id": "3632cff3",
   "metadata": {},
   "outputs": [
    {
     "name": "stdout",
     "output_type": "stream",
     "text": [
      "IDCT:\n",
      " [ 39.15085889 -20.14213562  -6.45392043   7.13341236   8.14213562\n",
      "  -3.83035081]\n"
     ]
    }
   ],
   "source": [
    "#Inverse Discrete Cosine Transform\n",
    "\n",
    "from scipy.fftpack import idct\n",
    "print(\"IDCT:\\n\",idct(np.array([4., 3., 5., 10., 5., 3.])))"
   ]
  },
  {
   "cell_type": "markdown",
   "id": "e664ab31",
   "metadata": {},
   "source": [
    "##      "
   ]
  },
  {
   "cell_type": "markdown",
   "id": "a9dc8ebe",
   "metadata": {},
   "source": [
    "# SciPy - Integrate"
   ]
  },
  {
   "cell_type": "markdown",
   "id": "2bfb33c4",
   "metadata": {},
   "source": [
    "#### The general form of quad is scipy.integrate.quad(f, a, b), Where ‘f’ is the name of the function to be integrated. Whereas, ‘a’ and ‘b’ are the lower and upper limits, respectively.\n",
    "#### f(x) = (ex)^2"
   ]
  },
  {
   "cell_type": "markdown",
   "id": "1406b9e3",
   "metadata": {},
   "source": [
    "##### Let us see an example of the Gaussian function, integrated over a range of 0 and 1."
   ]
  },
  {
   "cell_type": "markdown",
   "id": "0260cb7c",
   "metadata": {},
   "source": [
    "# ∫f(x)dx"
   ]
  },
  {
   "cell_type": "code",
   "execution_count": 29,
   "id": "294a6e87",
   "metadata": {},
   "outputs": [],
   "source": [
    "# Single Integration\n",
    "# quad()\n",
    "\n",
    "import scipy.integrate\n",
    "from numpy import exp\n",
    "f= lambda x:exp(-x**2)\n",
    "i = scipy.integrate.quad(f,0,1)"
   ]
  },
  {
   "cell_type": "code",
   "execution_count": 32,
   "id": "b6c05dc0",
   "metadata": {},
   "outputs": [
    {
     "data": {
      "text/plain": [
       "(0.7468241328124271, 8.291413475940725e-15)"
      ]
     },
     "execution_count": 32,
     "metadata": {},
     "output_type": "execute_result"
    }
   ],
   "source": [
    "i"
   ]
  },
  {
   "cell_type": "markdown",
   "id": "1f946c2c",
   "metadata": {},
   "source": [
    "#    "
   ]
  },
  {
   "cell_type": "markdown",
   "id": "6f3f5a7b",
   "metadata": {},
   "source": [
    "# Linear Algebra"
   ]
  },
  {
   "cell_type": "markdown",
   "id": "109ba499",
   "metadata": {},
   "source": [
    "#### x + 3y + 5z = 10\n",
    "#### 2x + 5y + z = 8\n",
    "####            2x + 3y + 8z = 3"
   ]
  },
  {
   "cell_type": "code",
   "execution_count": 33,
   "id": "6864aa33",
   "metadata": {},
   "outputs": [],
   "source": [
    "#importing the scipy and numpy packages\n",
    "\n",
    "from scipy import linalg\n",
    "import numpy as np"
   ]
  },
  {
   "cell_type": "code",
   "execution_count": 36,
   "id": "fa6427c2",
   "metadata": {},
   "outputs": [],
   "source": [
    "#Declaring the numpy arrays\n",
    "#a = np.array([[x, 3y, 5z], [2x, 5y, z], [2x, 3y, 8z]])\n",
    "#b = np.array([10, 8, 3])\n",
    "\n",
    "a = np.array([[1, 3, 5], [2, 5, 1], [2, 3, 8]])\n",
    "b = np.array([10, 8, 3])"
   ]
  },
  {
   "cell_type": "code",
   "execution_count": 37,
   "id": "870a00ca",
   "metadata": {},
   "outputs": [],
   "source": [
    "X=  linalg.solve(a, b)"
   ]
  },
  {
   "cell_type": "code",
   "execution_count": 40,
   "id": "7c450cad",
   "metadata": {},
   "outputs": [
    {
     "name": "stdout",
     "output_type": "stream",
     "text": [
      "[-9.28  5.16  0.76]\n"
     ]
    }
   ],
   "source": [
    "print(X)"
   ]
  },
  {
   "cell_type": "code",
   "execution_count": 49,
   "id": "ea03d3e2",
   "metadata": {},
   "outputs": [
    {
     "data": {
      "text/plain": [
       "array([[1., 0.],\n",
       "       [0., 1.]])"
      ]
     },
     "execution_count": 49,
     "metadata": {},
     "output_type": "execute_result"
    }
   ],
   "source": [
    "# Compute the inverse of a matrix.\n",
    "\n",
    "a = np.array([[1., 2.], [3., 4.]])\n",
    "linalg.inv(a)\n",
    "array([[-2. ,  1. ], [ 1.5, -0.5]])\n",
    "np.dot(a, linalg.inv(a))\n",
    "array([[ 1.,  0.], [ 0.,  1.]])"
   ]
  },
  {
   "cell_type": "code",
   "execution_count": 47,
   "id": "baeb4d19",
   "metadata": {},
   "outputs": [
    {
     "name": "stdout",
     "output_type": "stream",
     "text": [
      "[[-2.   1. ]\n",
      " [ 1.5 -0.5]]\n"
     ]
    }
   ],
   "source": [
    "print(X)"
   ]
  },
  {
   "cell_type": "markdown",
   "id": "9034a8f2",
   "metadata": {},
   "source": [
    "# Finding a Determinant"
   ]
  },
  {
   "cell_type": "code",
   "execution_count": 44,
   "id": "87ec6b68",
   "metadata": {},
   "outputs": [],
   "source": [
    "#Declaring the numpy array\n",
    "A = np.array([[1,2],[3,4]])\n",
    "\n",
    "#Passing the values to the det function\n",
    "x = linalg.det(A)"
   ]
  },
  {
   "cell_type": "code",
   "execution_count": 50,
   "id": "f1613147",
   "metadata": {},
   "outputs": [
    {
     "name": "stdout",
     "output_type": "stream",
     "text": [
      "-2.0\n"
     ]
    }
   ],
   "source": [
    "print(x)"
   ]
  },
  {
   "cell_type": "markdown",
   "id": "378ef4e7",
   "metadata": {},
   "source": [
    "#  Eigenvalues and Eigenvectors"
   ]
  },
  {
   "cell_type": "code",
   "execution_count": null,
   "id": "9d71b3fd",
   "metadata": {},
   "outputs": [],
   "source": []
  },
  {
   "cell_type": "code",
   "execution_count": null,
   "id": "1d3f2f62",
   "metadata": {},
   "outputs": [],
   "source": []
  },
  {
   "cell_type": "markdown",
   "id": "3d0521f6",
   "metadata": {},
   "source": [
    "# Image Processing"
   ]
  },
  {
   "cell_type": "code",
   "execution_count": 52,
   "id": "d4490dcb",
   "metadata": {},
   "outputs": [],
   "source": [
    "from scipy import misc"
   ]
  },
  {
   "cell_type": "code",
   "execution_count": 55,
   "id": "76827a06",
   "metadata": {},
   "outputs": [],
   "source": [
    "f = misc.face()"
   ]
  },
  {
   "cell_type": "code",
   "execution_count": 56,
   "id": "9a04cd29",
   "metadata": {},
   "outputs": [
    {
     "ename": "AttributeError",
     "evalue": "module 'scipy.misc' has no attribute 'imsave'",
     "output_type": "error",
     "traceback": [
      "\u001b[1;31m---------------------------------------------------------------------------\u001b[0m",
      "\u001b[1;31mAttributeError\u001b[0m                            Traceback (most recent call last)",
      "\u001b[1;32mC:\\Users\\SUDEVB~1\\AppData\\Local\\Temp/ipykernel_7660/2077797376.py\u001b[0m in \u001b[0;36m<module>\u001b[1;34m\u001b[0m\n\u001b[1;32m----> 1\u001b[1;33m \u001b[0mmisc\u001b[0m\u001b[1;33m.\u001b[0m\u001b[0mimsave\u001b[0m\u001b[1;33m(\u001b[0m\u001b[1;34m'face.png'\u001b[0m\u001b[1;33m,\u001b[0m \u001b[0mf\u001b[0m\u001b[1;33m)\u001b[0m \u001b[1;31m# uses the Image module (PIL)\u001b[0m\u001b[1;33m\u001b[0m\u001b[1;33m\u001b[0m\u001b[0m\n\u001b[0m",
      "\u001b[1;31mAttributeError\u001b[0m: module 'scipy.misc' has no attribute 'imsave'"
     ]
    }
   ],
   "source": [
    "misc.imsave('face.png', f) # uses the Image module (PIL)"
   ]
  },
  {
   "cell_type": "code",
   "execution_count": null,
   "id": "21b56428",
   "metadata": {},
   "outputs": [],
   "source": []
  }
 ],
 "metadata": {
  "kernelspec": {
   "display_name": "Python 3 (ipykernel)",
   "language": "python",
   "name": "python3"
  },
  "language_info": {
   "codemirror_mode": {
    "name": "ipython",
    "version": 3
   },
   "file_extension": ".py",
   "mimetype": "text/x-python",
   "name": "python",
   "nbconvert_exporter": "python",
   "pygments_lexer": "ipython3",
   "version": "3.9.7"
  }
 },
 "nbformat": 4,
 "nbformat_minor": 5
}
